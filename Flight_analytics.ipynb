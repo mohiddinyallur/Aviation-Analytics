{
  "nbformat": 4,
  "nbformat_minor": 0,
  "metadata": {
    "colab": {
      "provenance": [],
      "collapsed_sections": [
        "cA43uNHgR2fF",
        "pXPouImMSYHj",
        "wfa_7z7YPhTZ",
        "LgPCB7QhRtHl",
        "RcS2fMhaNqPZ"
      ],
      "mount_file_id": "14wiCBTwoUJd9a66Oja30d7TzxS9rNVVR",
      "authorship_tag": "ABX9TyNEkTZ85MI2xewGh4z3J5eX",
      "include_colab_link": true
    },
    "kernelspec": {
      "name": "python3",
      "display_name": "Python 3"
    },
    "language_info": {
      "name": "python"
    }
  },
  "cells": [
    {
      "cell_type": "markdown",
      "metadata": {
        "id": "view-in-github",
        "colab_type": "text"
      },
      "source": [
        "<a href=\"https://colab.research.google.com/github/mohiddinyallur/Flights-Analytics-NY-2013/blob/main/Flight_analytics.ipynb\" target=\"_parent\"><img src=\"https://colab.research.google.com/assets/colab-badge.svg\" alt=\"Open In Colab\"/></a>"
      ]
    },
    {
      "cell_type": "markdown",
      "source": [
        "# **Exploratory data analytics on flights departing from New York's thre major airports -LGA, JFK and EWR**\n",
        "\n",
        "Project Overview:\n",
        " This project focuses on analyzing data related to flights departing from three major airports in New York. Our goal is to uncover important trends and patterns in aviation operations. By leveraging data visualization and statistical analysis, we aim to understand the intricacies of aviation and provide actionable insights"
      ],
      "metadata": {
        "id": "KCAu-qqtJytA"
      }
    },
    {
      "cell_type": "markdown",
      "source": [
        "# **Problem statement:**"
      ],
      "metadata": {
        "id": "nHQqY_JWRpMl"
      }
    },
    {
      "cell_type": "markdown",
      "source": [
        "To evaluate the flights departing from airports to understand the air traffic and delays in departing and arrivals , and busy days/months at the respective airports."
      ],
      "metadata": {
        "id": "NDb_1q7MRxls"
      }
    },
    {
      "cell_type": "markdown",
      "source": [
        "# Data extraction"
      ],
      "metadata": {
        "id": "cA43uNHgR2fF"
      }
    },
    {
      "cell_type": "markdown",
      "source": [
        "Import a CSV file, data set which contains the data of flights departing from NY airports to Multple destinations across US for the year 2013."
      ],
      "metadata": {
        "id": "qaVDe89dSCGj"
      }
    },
    {
      "cell_type": "code",
      "source": [
        "import pandas as pd\n",
        "import numpy as np\n",
        "import matplotlib.pyplot as plt\n",
        "import seaborn as sns"
      ],
      "metadata": {
        "id": "3D4c78F3HSb1"
      },
      "execution_count": 59,
      "outputs": []
    },
    {
      "cell_type": "code",
      "source": [
        "fdata=pd.read_csv('/content/drive/MyDrive/DA-Projects/Flight analytics/Data sets/flights_2.csv')\n",
        "fdata.head()"
      ],
      "metadata": {
        "colab": {
          "base_uri": "https://localhost:8080/",
          "height": 236
        },
        "id": "SXZrurmXHUfr",
        "outputId": "63f74d06-c3fa-4a93-8b4c-5d582de37a2c"
      },
      "execution_count": 62,
      "outputs": [
        {
          "output_type": "execute_result",
          "data": {
            "text/plain": [
              "   Unnamed: 0  id  year  month  day  dep_time  sched_dep_time  dep_delay  \\\n",
              "0           0   0  2013      1    1      5.17            5.15       0.02   \n",
              "1           1   1  2013      1    1      5.33            5.29       0.04   \n",
              "2           2   2  2013      1    1      5.42            5.40       0.02   \n",
              "3           3   3  2013      1    1      5.44            5.45      -0.01   \n",
              "4           4   4  2013      1    1      5.54            6.00      -0.06   \n",
              "\n",
              "   arr_time  sched_arr_time  ...  origin dest  air_time distance hour minute  \\\n",
              "0      8.30            8.19  ...     EWR  IAH      2.27     1400    5     15   \n",
              "1      8.50            8.30  ...     LGA  IAH      2.27     1416    5     29   \n",
              "2      9.23            8.50  ...     JFK  MIA      2.00     1089    5     40   \n",
              "3     10.04           10.22  ...     JFK  BQN      2.23     1576    5     45   \n",
              "4      8.12            8.37  ...     LGA  ATL      1.16      762    6      0   \n",
              "\n",
              "         time_hour                    name  Departure delayed  Arrival delayed  \n",
              "0  01-01-2013 5.00   United Air Lines Inc.                Yes              Yes  \n",
              "1  01-01-2013 5.00   United Air Lines Inc.                Yes              Yes  \n",
              "2  01-01-2013 5.00  American Airlines Inc.                Yes              Yes  \n",
              "3  01-01-2013 5.00         JetBlue Airways                 No               No  \n",
              "4  01-01-2013 6.00    Delta Air Lines Inc.                 No               No  \n",
              "\n",
              "[5 rows x 24 columns]"
            ],
            "text/html": [
              "\n",
              "  <div id=\"df-434c2cad-daf3-4f07-a28c-f8d83ff743e4\" class=\"colab-df-container\">\n",
              "    <div>\n",
              "<style scoped>\n",
              "    .dataframe tbody tr th:only-of-type {\n",
              "        vertical-align: middle;\n",
              "    }\n",
              "\n",
              "    .dataframe tbody tr th {\n",
              "        vertical-align: top;\n",
              "    }\n",
              "\n",
              "    .dataframe thead th {\n",
              "        text-align: right;\n",
              "    }\n",
              "</style>\n",
              "<table border=\"1\" class=\"dataframe\">\n",
              "  <thead>\n",
              "    <tr style=\"text-align: right;\">\n",
              "      <th></th>\n",
              "      <th>Unnamed: 0</th>\n",
              "      <th>id</th>\n",
              "      <th>year</th>\n",
              "      <th>month</th>\n",
              "      <th>day</th>\n",
              "      <th>dep_time</th>\n",
              "      <th>sched_dep_time</th>\n",
              "      <th>dep_delay</th>\n",
              "      <th>arr_time</th>\n",
              "      <th>sched_arr_time</th>\n",
              "      <th>...</th>\n",
              "      <th>origin</th>\n",
              "      <th>dest</th>\n",
              "      <th>air_time</th>\n",
              "      <th>distance</th>\n",
              "      <th>hour</th>\n",
              "      <th>minute</th>\n",
              "      <th>time_hour</th>\n",
              "      <th>name</th>\n",
              "      <th>Departure delayed</th>\n",
              "      <th>Arrival delayed</th>\n",
              "    </tr>\n",
              "  </thead>\n",
              "  <tbody>\n",
              "    <tr>\n",
              "      <th>0</th>\n",
              "      <td>0</td>\n",
              "      <td>0</td>\n",
              "      <td>2013</td>\n",
              "      <td>1</td>\n",
              "      <td>1</td>\n",
              "      <td>5.17</td>\n",
              "      <td>5.15</td>\n",
              "      <td>0.02</td>\n",
              "      <td>8.30</td>\n",
              "      <td>8.19</td>\n",
              "      <td>...</td>\n",
              "      <td>EWR</td>\n",
              "      <td>IAH</td>\n",
              "      <td>2.27</td>\n",
              "      <td>1400</td>\n",
              "      <td>5</td>\n",
              "      <td>15</td>\n",
              "      <td>01-01-2013 5.00</td>\n",
              "      <td>United Air Lines Inc.</td>\n",
              "      <td>Yes</td>\n",
              "      <td>Yes</td>\n",
              "    </tr>\n",
              "    <tr>\n",
              "      <th>1</th>\n",
              "      <td>1</td>\n",
              "      <td>1</td>\n",
              "      <td>2013</td>\n",
              "      <td>1</td>\n",
              "      <td>1</td>\n",
              "      <td>5.33</td>\n",
              "      <td>5.29</td>\n",
              "      <td>0.04</td>\n",
              "      <td>8.50</td>\n",
              "      <td>8.30</td>\n",
              "      <td>...</td>\n",
              "      <td>LGA</td>\n",
              "      <td>IAH</td>\n",
              "      <td>2.27</td>\n",
              "      <td>1416</td>\n",
              "      <td>5</td>\n",
              "      <td>29</td>\n",
              "      <td>01-01-2013 5.00</td>\n",
              "      <td>United Air Lines Inc.</td>\n",
              "      <td>Yes</td>\n",
              "      <td>Yes</td>\n",
              "    </tr>\n",
              "    <tr>\n",
              "      <th>2</th>\n",
              "      <td>2</td>\n",
              "      <td>2</td>\n",
              "      <td>2013</td>\n",
              "      <td>1</td>\n",
              "      <td>1</td>\n",
              "      <td>5.42</td>\n",
              "      <td>5.40</td>\n",
              "      <td>0.02</td>\n",
              "      <td>9.23</td>\n",
              "      <td>8.50</td>\n",
              "      <td>...</td>\n",
              "      <td>JFK</td>\n",
              "      <td>MIA</td>\n",
              "      <td>2.00</td>\n",
              "      <td>1089</td>\n",
              "      <td>5</td>\n",
              "      <td>40</td>\n",
              "      <td>01-01-2013 5.00</td>\n",
              "      <td>American Airlines Inc.</td>\n",
              "      <td>Yes</td>\n",
              "      <td>Yes</td>\n",
              "    </tr>\n",
              "    <tr>\n",
              "      <th>3</th>\n",
              "      <td>3</td>\n",
              "      <td>3</td>\n",
              "      <td>2013</td>\n",
              "      <td>1</td>\n",
              "      <td>1</td>\n",
              "      <td>5.44</td>\n",
              "      <td>5.45</td>\n",
              "      <td>-0.01</td>\n",
              "      <td>10.04</td>\n",
              "      <td>10.22</td>\n",
              "      <td>...</td>\n",
              "      <td>JFK</td>\n",
              "      <td>BQN</td>\n",
              "      <td>2.23</td>\n",
              "      <td>1576</td>\n",
              "      <td>5</td>\n",
              "      <td>45</td>\n",
              "      <td>01-01-2013 5.00</td>\n",
              "      <td>JetBlue Airways</td>\n",
              "      <td>No</td>\n",
              "      <td>No</td>\n",
              "    </tr>\n",
              "    <tr>\n",
              "      <th>4</th>\n",
              "      <td>4</td>\n",
              "      <td>4</td>\n",
              "      <td>2013</td>\n",
              "      <td>1</td>\n",
              "      <td>1</td>\n",
              "      <td>5.54</td>\n",
              "      <td>6.00</td>\n",
              "      <td>-0.06</td>\n",
              "      <td>8.12</td>\n",
              "      <td>8.37</td>\n",
              "      <td>...</td>\n",
              "      <td>LGA</td>\n",
              "      <td>ATL</td>\n",
              "      <td>1.16</td>\n",
              "      <td>762</td>\n",
              "      <td>6</td>\n",
              "      <td>0</td>\n",
              "      <td>01-01-2013 6.00</td>\n",
              "      <td>Delta Air Lines Inc.</td>\n",
              "      <td>No</td>\n",
              "      <td>No</td>\n",
              "    </tr>\n",
              "  </tbody>\n",
              "</table>\n",
              "<p>5 rows × 24 columns</p>\n",
              "</div>\n",
              "    <div class=\"colab-df-buttons\">\n",
              "\n",
              "  <div class=\"colab-df-container\">\n",
              "    <button class=\"colab-df-convert\" onclick=\"convertToInteractive('df-434c2cad-daf3-4f07-a28c-f8d83ff743e4')\"\n",
              "            title=\"Convert this dataframe to an interactive table.\"\n",
              "            style=\"display:none;\">\n",
              "\n",
              "  <svg xmlns=\"http://www.w3.org/2000/svg\" height=\"24px\" viewBox=\"0 -960 960 960\">\n",
              "    <path d=\"M120-120v-720h720v720H120Zm60-500h600v-160H180v160Zm220 220h160v-160H400v160Zm0 220h160v-160H400v160ZM180-400h160v-160H180v160Zm440 0h160v-160H620v160ZM180-180h160v-160H180v160Zm440 0h160v-160H620v160Z\"/>\n",
              "  </svg>\n",
              "    </button>\n",
              "\n",
              "  <style>\n",
              "    .colab-df-container {\n",
              "      display:flex;\n",
              "      gap: 12px;\n",
              "    }\n",
              "\n",
              "    .colab-df-convert {\n",
              "      background-color: #E8F0FE;\n",
              "      border: none;\n",
              "      border-radius: 50%;\n",
              "      cursor: pointer;\n",
              "      display: none;\n",
              "      fill: #1967D2;\n",
              "      height: 32px;\n",
              "      padding: 0 0 0 0;\n",
              "      width: 32px;\n",
              "    }\n",
              "\n",
              "    .colab-df-convert:hover {\n",
              "      background-color: #E2EBFA;\n",
              "      box-shadow: 0px 1px 2px rgba(60, 64, 67, 0.3), 0px 1px 3px 1px rgba(60, 64, 67, 0.15);\n",
              "      fill: #174EA6;\n",
              "    }\n",
              "\n",
              "    .colab-df-buttons div {\n",
              "      margin-bottom: 4px;\n",
              "    }\n",
              "\n",
              "    [theme=dark] .colab-df-convert {\n",
              "      background-color: #3B4455;\n",
              "      fill: #D2E3FC;\n",
              "    }\n",
              "\n",
              "    [theme=dark] .colab-df-convert:hover {\n",
              "      background-color: #434B5C;\n",
              "      box-shadow: 0px 1px 3px 1px rgba(0, 0, 0, 0.15);\n",
              "      filter: drop-shadow(0px 1px 2px rgba(0, 0, 0, 0.3));\n",
              "      fill: #FFFFFF;\n",
              "    }\n",
              "  </style>\n",
              "\n",
              "    <script>\n",
              "      const buttonEl =\n",
              "        document.querySelector('#df-434c2cad-daf3-4f07-a28c-f8d83ff743e4 button.colab-df-convert');\n",
              "      buttonEl.style.display =\n",
              "        google.colab.kernel.accessAllowed ? 'block' : 'none';\n",
              "\n",
              "      async function convertToInteractive(key) {\n",
              "        const element = document.querySelector('#df-434c2cad-daf3-4f07-a28c-f8d83ff743e4');\n",
              "        const dataTable =\n",
              "          await google.colab.kernel.invokeFunction('convertToInteractive',\n",
              "                                                    [key], {});\n",
              "        if (!dataTable) return;\n",
              "\n",
              "        const docLinkHtml = 'Like what you see? Visit the ' +\n",
              "          '<a target=\"_blank\" href=https://colab.research.google.com/notebooks/data_table.ipynb>data table notebook</a>'\n",
              "          + ' to learn more about interactive tables.';\n",
              "        element.innerHTML = '';\n",
              "        dataTable['output_type'] = 'display_data';\n",
              "        await google.colab.output.renderOutput(dataTable, element);\n",
              "        const docLink = document.createElement('div');\n",
              "        docLink.innerHTML = docLinkHtml;\n",
              "        element.appendChild(docLink);\n",
              "      }\n",
              "    </script>\n",
              "  </div>\n",
              "\n",
              "\n",
              "<div id=\"df-acd180e4-a187-4c90-ad6a-e96edc5f4ef4\">\n",
              "  <button class=\"colab-df-quickchart\" onclick=\"quickchart('df-acd180e4-a187-4c90-ad6a-e96edc5f4ef4')\"\n",
              "            title=\"Suggest charts\"\n",
              "            style=\"display:none;\">\n",
              "\n",
              "<svg xmlns=\"http://www.w3.org/2000/svg\" height=\"24px\"viewBox=\"0 0 24 24\"\n",
              "     width=\"24px\">\n",
              "    <g>\n",
              "        <path d=\"M19 3H5c-1.1 0-2 .9-2 2v14c0 1.1.9 2 2 2h14c1.1 0 2-.9 2-2V5c0-1.1-.9-2-2-2zM9 17H7v-7h2v7zm4 0h-2V7h2v10zm4 0h-2v-4h2v4z\"/>\n",
              "    </g>\n",
              "</svg>\n",
              "  </button>\n",
              "\n",
              "<style>\n",
              "  .colab-df-quickchart {\n",
              "      --bg-color: #E8F0FE;\n",
              "      --fill-color: #1967D2;\n",
              "      --hover-bg-color: #E2EBFA;\n",
              "      --hover-fill-color: #174EA6;\n",
              "      --disabled-fill-color: #AAA;\n",
              "      --disabled-bg-color: #DDD;\n",
              "  }\n",
              "\n",
              "  [theme=dark] .colab-df-quickchart {\n",
              "      --bg-color: #3B4455;\n",
              "      --fill-color: #D2E3FC;\n",
              "      --hover-bg-color: #434B5C;\n",
              "      --hover-fill-color: #FFFFFF;\n",
              "      --disabled-bg-color: #3B4455;\n",
              "      --disabled-fill-color: #666;\n",
              "  }\n",
              "\n",
              "  .colab-df-quickchart {\n",
              "    background-color: var(--bg-color);\n",
              "    border: none;\n",
              "    border-radius: 50%;\n",
              "    cursor: pointer;\n",
              "    display: none;\n",
              "    fill: var(--fill-color);\n",
              "    height: 32px;\n",
              "    padding: 0;\n",
              "    width: 32px;\n",
              "  }\n",
              "\n",
              "  .colab-df-quickchart:hover {\n",
              "    background-color: var(--hover-bg-color);\n",
              "    box-shadow: 0 1px 2px rgba(60, 64, 67, 0.3), 0 1px 3px 1px rgba(60, 64, 67, 0.15);\n",
              "    fill: var(--button-hover-fill-color);\n",
              "  }\n",
              "\n",
              "  .colab-df-quickchart-complete:disabled,\n",
              "  .colab-df-quickchart-complete:disabled:hover {\n",
              "    background-color: var(--disabled-bg-color);\n",
              "    fill: var(--disabled-fill-color);\n",
              "    box-shadow: none;\n",
              "  }\n",
              "\n",
              "  .colab-df-spinner {\n",
              "    border: 2px solid var(--fill-color);\n",
              "    border-color: transparent;\n",
              "    border-bottom-color: var(--fill-color);\n",
              "    animation:\n",
              "      spin 1s steps(1) infinite;\n",
              "  }\n",
              "\n",
              "  @keyframes spin {\n",
              "    0% {\n",
              "      border-color: transparent;\n",
              "      border-bottom-color: var(--fill-color);\n",
              "      border-left-color: var(--fill-color);\n",
              "    }\n",
              "    20% {\n",
              "      border-color: transparent;\n",
              "      border-left-color: var(--fill-color);\n",
              "      border-top-color: var(--fill-color);\n",
              "    }\n",
              "    30% {\n",
              "      border-color: transparent;\n",
              "      border-left-color: var(--fill-color);\n",
              "      border-top-color: var(--fill-color);\n",
              "      border-right-color: var(--fill-color);\n",
              "    }\n",
              "    40% {\n",
              "      border-color: transparent;\n",
              "      border-right-color: var(--fill-color);\n",
              "      border-top-color: var(--fill-color);\n",
              "    }\n",
              "    60% {\n",
              "      border-color: transparent;\n",
              "      border-right-color: var(--fill-color);\n",
              "    }\n",
              "    80% {\n",
              "      border-color: transparent;\n",
              "      border-right-color: var(--fill-color);\n",
              "      border-bottom-color: var(--fill-color);\n",
              "    }\n",
              "    90% {\n",
              "      border-color: transparent;\n",
              "      border-bottom-color: var(--fill-color);\n",
              "    }\n",
              "  }\n",
              "</style>\n",
              "\n",
              "  <script>\n",
              "    async function quickchart(key) {\n",
              "      const quickchartButtonEl =\n",
              "        document.querySelector('#' + key + ' button');\n",
              "      quickchartButtonEl.disabled = true;  // To prevent multiple clicks.\n",
              "      quickchartButtonEl.classList.add('colab-df-spinner');\n",
              "      try {\n",
              "        const charts = await google.colab.kernel.invokeFunction(\n",
              "            'suggestCharts', [key], {});\n",
              "      } catch (error) {\n",
              "        console.error('Error during call to suggestCharts:', error);\n",
              "      }\n",
              "      quickchartButtonEl.classList.remove('colab-df-spinner');\n",
              "      quickchartButtonEl.classList.add('colab-df-quickchart-complete');\n",
              "    }\n",
              "    (() => {\n",
              "      let quickchartButtonEl =\n",
              "        document.querySelector('#df-acd180e4-a187-4c90-ad6a-e96edc5f4ef4 button');\n",
              "      quickchartButtonEl.style.display =\n",
              "        google.colab.kernel.accessAllowed ? 'block' : 'none';\n",
              "    })();\n",
              "  </script>\n",
              "</div>\n",
              "\n",
              "    </div>\n",
              "  </div>\n"
            ],
            "application/vnd.google.colaboratory.intrinsic+json": {
              "type": "dataframe",
              "variable_name": "fdata"
            }
          },
          "metadata": {},
          "execution_count": 62
        }
      ]
    },
    {
      "cell_type": "markdown",
      "source": [
        "# Data Wrangling"
      ],
      "metadata": {
        "id": "pXPouImMSYHj"
      }
    },
    {
      "cell_type": "code",
      "source": [
        "pd.set_option('display.max_columns',21)\n",
        "fdata.head()"
      ],
      "metadata": {
        "colab": {
          "base_uri": "https://localhost:8080/",
          "height": 236
        },
        "id": "iISY7Z3wLoUG",
        "outputId": "ff614cac-eba8-4ff6-8aff-fcc6e157a7dd"
      },
      "execution_count": 63,
      "outputs": [
        {
          "output_type": "execute_result",
          "data": {
            "text/plain": [
              "   Unnamed: 0  id  year  month  day  dep_time  sched_dep_time  dep_delay  \\\n",
              "0           0   0  2013      1    1      5.17            5.15       0.02   \n",
              "1           1   1  2013      1    1      5.33            5.29       0.04   \n",
              "2           2   2  2013      1    1      5.42            5.40       0.02   \n",
              "3           3   3  2013      1    1      5.44            5.45      -0.01   \n",
              "4           4   4  2013      1    1      5.54            6.00      -0.06   \n",
              "\n",
              "   arr_time  sched_arr_time  ...  origin dest  air_time distance hour minute  \\\n",
              "0      8.30            8.19  ...     EWR  IAH      2.27     1400    5     15   \n",
              "1      8.50            8.30  ...     LGA  IAH      2.27     1416    5     29   \n",
              "2      9.23            8.50  ...     JFK  MIA      2.00     1089    5     40   \n",
              "3     10.04           10.22  ...     JFK  BQN      2.23     1576    5     45   \n",
              "4      8.12            8.37  ...     LGA  ATL      1.16      762    6      0   \n",
              "\n",
              "         time_hour                    name  Departure delayed  Arrival delayed  \n",
              "0  01-01-2013 5.00   United Air Lines Inc.                Yes              Yes  \n",
              "1  01-01-2013 5.00   United Air Lines Inc.                Yes              Yes  \n",
              "2  01-01-2013 5.00  American Airlines Inc.                Yes              Yes  \n",
              "3  01-01-2013 5.00         JetBlue Airways                 No               No  \n",
              "4  01-01-2013 6.00    Delta Air Lines Inc.                 No               No  \n",
              "\n",
              "[5 rows x 24 columns]"
            ],
            "text/html": [
              "\n",
              "  <div id=\"df-c3a1b380-e819-4afe-9d23-73f9f08d21e5\" class=\"colab-df-container\">\n",
              "    <div>\n",
              "<style scoped>\n",
              "    .dataframe tbody tr th:only-of-type {\n",
              "        vertical-align: middle;\n",
              "    }\n",
              "\n",
              "    .dataframe tbody tr th {\n",
              "        vertical-align: top;\n",
              "    }\n",
              "\n",
              "    .dataframe thead th {\n",
              "        text-align: right;\n",
              "    }\n",
              "</style>\n",
              "<table border=\"1\" class=\"dataframe\">\n",
              "  <thead>\n",
              "    <tr style=\"text-align: right;\">\n",
              "      <th></th>\n",
              "      <th>Unnamed: 0</th>\n",
              "      <th>id</th>\n",
              "      <th>year</th>\n",
              "      <th>month</th>\n",
              "      <th>day</th>\n",
              "      <th>dep_time</th>\n",
              "      <th>sched_dep_time</th>\n",
              "      <th>dep_delay</th>\n",
              "      <th>arr_time</th>\n",
              "      <th>sched_arr_time</th>\n",
              "      <th>...</th>\n",
              "      <th>origin</th>\n",
              "      <th>dest</th>\n",
              "      <th>air_time</th>\n",
              "      <th>distance</th>\n",
              "      <th>hour</th>\n",
              "      <th>minute</th>\n",
              "      <th>time_hour</th>\n",
              "      <th>name</th>\n",
              "      <th>Departure delayed</th>\n",
              "      <th>Arrival delayed</th>\n",
              "    </tr>\n",
              "  </thead>\n",
              "  <tbody>\n",
              "    <tr>\n",
              "      <th>0</th>\n",
              "      <td>0</td>\n",
              "      <td>0</td>\n",
              "      <td>2013</td>\n",
              "      <td>1</td>\n",
              "      <td>1</td>\n",
              "      <td>5.17</td>\n",
              "      <td>5.15</td>\n",
              "      <td>0.02</td>\n",
              "      <td>8.30</td>\n",
              "      <td>8.19</td>\n",
              "      <td>...</td>\n",
              "      <td>EWR</td>\n",
              "      <td>IAH</td>\n",
              "      <td>2.27</td>\n",
              "      <td>1400</td>\n",
              "      <td>5</td>\n",
              "      <td>15</td>\n",
              "      <td>01-01-2013 5.00</td>\n",
              "      <td>United Air Lines Inc.</td>\n",
              "      <td>Yes</td>\n",
              "      <td>Yes</td>\n",
              "    </tr>\n",
              "    <tr>\n",
              "      <th>1</th>\n",
              "      <td>1</td>\n",
              "      <td>1</td>\n",
              "      <td>2013</td>\n",
              "      <td>1</td>\n",
              "      <td>1</td>\n",
              "      <td>5.33</td>\n",
              "      <td>5.29</td>\n",
              "      <td>0.04</td>\n",
              "      <td>8.50</td>\n",
              "      <td>8.30</td>\n",
              "      <td>...</td>\n",
              "      <td>LGA</td>\n",
              "      <td>IAH</td>\n",
              "      <td>2.27</td>\n",
              "      <td>1416</td>\n",
              "      <td>5</td>\n",
              "      <td>29</td>\n",
              "      <td>01-01-2013 5.00</td>\n",
              "      <td>United Air Lines Inc.</td>\n",
              "      <td>Yes</td>\n",
              "      <td>Yes</td>\n",
              "    </tr>\n",
              "    <tr>\n",
              "      <th>2</th>\n",
              "      <td>2</td>\n",
              "      <td>2</td>\n",
              "      <td>2013</td>\n",
              "      <td>1</td>\n",
              "      <td>1</td>\n",
              "      <td>5.42</td>\n",
              "      <td>5.40</td>\n",
              "      <td>0.02</td>\n",
              "      <td>9.23</td>\n",
              "      <td>8.50</td>\n",
              "      <td>...</td>\n",
              "      <td>JFK</td>\n",
              "      <td>MIA</td>\n",
              "      <td>2.00</td>\n",
              "      <td>1089</td>\n",
              "      <td>5</td>\n",
              "      <td>40</td>\n",
              "      <td>01-01-2013 5.00</td>\n",
              "      <td>American Airlines Inc.</td>\n",
              "      <td>Yes</td>\n",
              "      <td>Yes</td>\n",
              "    </tr>\n",
              "    <tr>\n",
              "      <th>3</th>\n",
              "      <td>3</td>\n",
              "      <td>3</td>\n",
              "      <td>2013</td>\n",
              "      <td>1</td>\n",
              "      <td>1</td>\n",
              "      <td>5.44</td>\n",
              "      <td>5.45</td>\n",
              "      <td>-0.01</td>\n",
              "      <td>10.04</td>\n",
              "      <td>10.22</td>\n",
              "      <td>...</td>\n",
              "      <td>JFK</td>\n",
              "      <td>BQN</td>\n",
              "      <td>2.23</td>\n",
              "      <td>1576</td>\n",
              "      <td>5</td>\n",
              "      <td>45</td>\n",
              "      <td>01-01-2013 5.00</td>\n",
              "      <td>JetBlue Airways</td>\n",
              "      <td>No</td>\n",
              "      <td>No</td>\n",
              "    </tr>\n",
              "    <tr>\n",
              "      <th>4</th>\n",
              "      <td>4</td>\n",
              "      <td>4</td>\n",
              "      <td>2013</td>\n",
              "      <td>1</td>\n",
              "      <td>1</td>\n",
              "      <td>5.54</td>\n",
              "      <td>6.00</td>\n",
              "      <td>-0.06</td>\n",
              "      <td>8.12</td>\n",
              "      <td>8.37</td>\n",
              "      <td>...</td>\n",
              "      <td>LGA</td>\n",
              "      <td>ATL</td>\n",
              "      <td>1.16</td>\n",
              "      <td>762</td>\n",
              "      <td>6</td>\n",
              "      <td>0</td>\n",
              "      <td>01-01-2013 6.00</td>\n",
              "      <td>Delta Air Lines Inc.</td>\n",
              "      <td>No</td>\n",
              "      <td>No</td>\n",
              "    </tr>\n",
              "  </tbody>\n",
              "</table>\n",
              "<p>5 rows × 24 columns</p>\n",
              "</div>\n",
              "    <div class=\"colab-df-buttons\">\n",
              "\n",
              "  <div class=\"colab-df-container\">\n",
              "    <button class=\"colab-df-convert\" onclick=\"convertToInteractive('df-c3a1b380-e819-4afe-9d23-73f9f08d21e5')\"\n",
              "            title=\"Convert this dataframe to an interactive table.\"\n",
              "            style=\"display:none;\">\n",
              "\n",
              "  <svg xmlns=\"http://www.w3.org/2000/svg\" height=\"24px\" viewBox=\"0 -960 960 960\">\n",
              "    <path d=\"M120-120v-720h720v720H120Zm60-500h600v-160H180v160Zm220 220h160v-160H400v160Zm0 220h160v-160H400v160ZM180-400h160v-160H180v160Zm440 0h160v-160H620v160ZM180-180h160v-160H180v160Zm440 0h160v-160H620v160Z\"/>\n",
              "  </svg>\n",
              "    </button>\n",
              "\n",
              "  <style>\n",
              "    .colab-df-container {\n",
              "      display:flex;\n",
              "      gap: 12px;\n",
              "    }\n",
              "\n",
              "    .colab-df-convert {\n",
              "      background-color: #E8F0FE;\n",
              "      border: none;\n",
              "      border-radius: 50%;\n",
              "      cursor: pointer;\n",
              "      display: none;\n",
              "      fill: #1967D2;\n",
              "      height: 32px;\n",
              "      padding: 0 0 0 0;\n",
              "      width: 32px;\n",
              "    }\n",
              "\n",
              "    .colab-df-convert:hover {\n",
              "      background-color: #E2EBFA;\n",
              "      box-shadow: 0px 1px 2px rgba(60, 64, 67, 0.3), 0px 1px 3px 1px rgba(60, 64, 67, 0.15);\n",
              "      fill: #174EA6;\n",
              "    }\n",
              "\n",
              "    .colab-df-buttons div {\n",
              "      margin-bottom: 4px;\n",
              "    }\n",
              "\n",
              "    [theme=dark] .colab-df-convert {\n",
              "      background-color: #3B4455;\n",
              "      fill: #D2E3FC;\n",
              "    }\n",
              "\n",
              "    [theme=dark] .colab-df-convert:hover {\n",
              "      background-color: #434B5C;\n",
              "      box-shadow: 0px 1px 3px 1px rgba(0, 0, 0, 0.15);\n",
              "      filter: drop-shadow(0px 1px 2px rgba(0, 0, 0, 0.3));\n",
              "      fill: #FFFFFF;\n",
              "    }\n",
              "  </style>\n",
              "\n",
              "    <script>\n",
              "      const buttonEl =\n",
              "        document.querySelector('#df-c3a1b380-e819-4afe-9d23-73f9f08d21e5 button.colab-df-convert');\n",
              "      buttonEl.style.display =\n",
              "        google.colab.kernel.accessAllowed ? 'block' : 'none';\n",
              "\n",
              "      async function convertToInteractive(key) {\n",
              "        const element = document.querySelector('#df-c3a1b380-e819-4afe-9d23-73f9f08d21e5');\n",
              "        const dataTable =\n",
              "          await google.colab.kernel.invokeFunction('convertToInteractive',\n",
              "                                                    [key], {});\n",
              "        if (!dataTable) return;\n",
              "\n",
              "        const docLinkHtml = 'Like what you see? Visit the ' +\n",
              "          '<a target=\"_blank\" href=https://colab.research.google.com/notebooks/data_table.ipynb>data table notebook</a>'\n",
              "          + ' to learn more about interactive tables.';\n",
              "        element.innerHTML = '';\n",
              "        dataTable['output_type'] = 'display_data';\n",
              "        await google.colab.output.renderOutput(dataTable, element);\n",
              "        const docLink = document.createElement('div');\n",
              "        docLink.innerHTML = docLinkHtml;\n",
              "        element.appendChild(docLink);\n",
              "      }\n",
              "    </script>\n",
              "  </div>\n",
              "\n",
              "\n",
              "<div id=\"df-37185422-4298-4e2e-8851-02f7561289a8\">\n",
              "  <button class=\"colab-df-quickchart\" onclick=\"quickchart('df-37185422-4298-4e2e-8851-02f7561289a8')\"\n",
              "            title=\"Suggest charts\"\n",
              "            style=\"display:none;\">\n",
              "\n",
              "<svg xmlns=\"http://www.w3.org/2000/svg\" height=\"24px\"viewBox=\"0 0 24 24\"\n",
              "     width=\"24px\">\n",
              "    <g>\n",
              "        <path d=\"M19 3H5c-1.1 0-2 .9-2 2v14c0 1.1.9 2 2 2h14c1.1 0 2-.9 2-2V5c0-1.1-.9-2-2-2zM9 17H7v-7h2v7zm4 0h-2V7h2v10zm4 0h-2v-4h2v4z\"/>\n",
              "    </g>\n",
              "</svg>\n",
              "  </button>\n",
              "\n",
              "<style>\n",
              "  .colab-df-quickchart {\n",
              "      --bg-color: #E8F0FE;\n",
              "      --fill-color: #1967D2;\n",
              "      --hover-bg-color: #E2EBFA;\n",
              "      --hover-fill-color: #174EA6;\n",
              "      --disabled-fill-color: #AAA;\n",
              "      --disabled-bg-color: #DDD;\n",
              "  }\n",
              "\n",
              "  [theme=dark] .colab-df-quickchart {\n",
              "      --bg-color: #3B4455;\n",
              "      --fill-color: #D2E3FC;\n",
              "      --hover-bg-color: #434B5C;\n",
              "      --hover-fill-color: #FFFFFF;\n",
              "      --disabled-bg-color: #3B4455;\n",
              "      --disabled-fill-color: #666;\n",
              "  }\n",
              "\n",
              "  .colab-df-quickchart {\n",
              "    background-color: var(--bg-color);\n",
              "    border: none;\n",
              "    border-radius: 50%;\n",
              "    cursor: pointer;\n",
              "    display: none;\n",
              "    fill: var(--fill-color);\n",
              "    height: 32px;\n",
              "    padding: 0;\n",
              "    width: 32px;\n",
              "  }\n",
              "\n",
              "  .colab-df-quickchart:hover {\n",
              "    background-color: var(--hover-bg-color);\n",
              "    box-shadow: 0 1px 2px rgba(60, 64, 67, 0.3), 0 1px 3px 1px rgba(60, 64, 67, 0.15);\n",
              "    fill: var(--button-hover-fill-color);\n",
              "  }\n",
              "\n",
              "  .colab-df-quickchart-complete:disabled,\n",
              "  .colab-df-quickchart-complete:disabled:hover {\n",
              "    background-color: var(--disabled-bg-color);\n",
              "    fill: var(--disabled-fill-color);\n",
              "    box-shadow: none;\n",
              "  }\n",
              "\n",
              "  .colab-df-spinner {\n",
              "    border: 2px solid var(--fill-color);\n",
              "    border-color: transparent;\n",
              "    border-bottom-color: var(--fill-color);\n",
              "    animation:\n",
              "      spin 1s steps(1) infinite;\n",
              "  }\n",
              "\n",
              "  @keyframes spin {\n",
              "    0% {\n",
              "      border-color: transparent;\n",
              "      border-bottom-color: var(--fill-color);\n",
              "      border-left-color: var(--fill-color);\n",
              "    }\n",
              "    20% {\n",
              "      border-color: transparent;\n",
              "      border-left-color: var(--fill-color);\n",
              "      border-top-color: var(--fill-color);\n",
              "    }\n",
              "    30% {\n",
              "      border-color: transparent;\n",
              "      border-left-color: var(--fill-color);\n",
              "      border-top-color: var(--fill-color);\n",
              "      border-right-color: var(--fill-color);\n",
              "    }\n",
              "    40% {\n",
              "      border-color: transparent;\n",
              "      border-right-color: var(--fill-color);\n",
              "      border-top-color: var(--fill-color);\n",
              "    }\n",
              "    60% {\n",
              "      border-color: transparent;\n",
              "      border-right-color: var(--fill-color);\n",
              "    }\n",
              "    80% {\n",
              "      border-color: transparent;\n",
              "      border-right-color: var(--fill-color);\n",
              "      border-bottom-color: var(--fill-color);\n",
              "    }\n",
              "    90% {\n",
              "      border-color: transparent;\n",
              "      border-bottom-color: var(--fill-color);\n",
              "    }\n",
              "  }\n",
              "</style>\n",
              "\n",
              "  <script>\n",
              "    async function quickchart(key) {\n",
              "      const quickchartButtonEl =\n",
              "        document.querySelector('#' + key + ' button');\n",
              "      quickchartButtonEl.disabled = true;  // To prevent multiple clicks.\n",
              "      quickchartButtonEl.classList.add('colab-df-spinner');\n",
              "      try {\n",
              "        const charts = await google.colab.kernel.invokeFunction(\n",
              "            'suggestCharts', [key], {});\n",
              "      } catch (error) {\n",
              "        console.error('Error during call to suggestCharts:', error);\n",
              "      }\n",
              "      quickchartButtonEl.classList.remove('colab-df-spinner');\n",
              "      quickchartButtonEl.classList.add('colab-df-quickchart-complete');\n",
              "    }\n",
              "    (() => {\n",
              "      let quickchartButtonEl =\n",
              "        document.querySelector('#df-37185422-4298-4e2e-8851-02f7561289a8 button');\n",
              "      quickchartButtonEl.style.display =\n",
              "        google.colab.kernel.accessAllowed ? 'block' : 'none';\n",
              "    })();\n",
              "  </script>\n",
              "</div>\n",
              "\n",
              "    </div>\n",
              "  </div>\n"
            ],
            "application/vnd.google.colaboratory.intrinsic+json": {
              "type": "dataframe",
              "variable_name": "fdata"
            }
          },
          "metadata": {},
          "execution_count": 63
        }
      ]
    },
    {
      "cell_type": "code",
      "source": [
        "#Number of flights departing per day\n",
        "#Number of flights departing per day at each airport\n",
        "#Number of flights by airline\n",
        "#maximum flights and minimum flights (Day and Month wise )\n",
        "#Most connecting destination Airport\n",
        "#Average,max and min Delay in departure  (Total )\n",
        "#Average,max and mun  Delay in arrival (Total)\n",
        "#Average,max and min departure delay per airport\n",
        "#Average ,Max, min airtime\n",
        "#Distance covered by flights by airline\n",
        "#Metrics for airline\n",
        " #Flights which covered max and min distance\n",
        " #Delay evaluavtion\n",
        " #On time arrivals\n",
        "# Metrics for the airports\n",
        "#average Delay in departure and arrival\n",
        "#number of flights per day/month -by airlines\n",
        "#Air traffic evaluation"
      ],
      "metadata": {
        "id": "nNOQ9f1sL5aB"
      },
      "execution_count": 5,
      "outputs": []
    },
    {
      "cell_type": "code",
      "source": [
        "fdata.shape"
      ],
      "metadata": {
        "colab": {
          "base_uri": "https://localhost:8080/"
        },
        "id": "vaMuLDybqR1a",
        "outputId": "18e17672-3c73-4eda-bc51-d8c8a37a9ed8"
      },
      "execution_count": 64,
      "outputs": [
        {
          "output_type": "execute_result",
          "data": {
            "text/plain": [
              "(328063, 24)"
            ]
          },
          "metadata": {},
          "execution_count": 64
        }
      ]
    },
    {
      "cell_type": "code",
      "source": [
        "fdata.columns"
      ],
      "metadata": {
        "colab": {
          "base_uri": "https://localhost:8080/"
        },
        "id": "OoIzQqPorOHa",
        "outputId": "c9b9f83c-b421-4f47-eb9d-ccc14b9630fc"
      },
      "execution_count": 65,
      "outputs": [
        {
          "output_type": "execute_result",
          "data": {
            "text/plain": [
              "Index(['Unnamed: 0', 'id', 'year', 'month', 'day', 'dep_time',\n",
              "       'sched_dep_time', 'dep_delay', 'arr_time', 'sched_arr_time',\n",
              "       'arr_delay', 'carrier', 'flight', 'tailnum', 'origin', 'dest',\n",
              "       'air_time', 'distance', 'hour', 'minute', 'time_hour', 'name',\n",
              "       'Departure delayed', 'Arrival delayed'],\n",
              "      dtype='object')"
            ]
          },
          "metadata": {},
          "execution_count": 65
        }
      ]
    },
    {
      "cell_type": "code",
      "source": [
        "fdata.info()"
      ],
      "metadata": {
        "colab": {
          "base_uri": "https://localhost:8080/"
        },
        "id": "rd5DRZcMsevo",
        "outputId": "f7612d1c-86ce-49a5-a42a-dde43d69ca4b"
      },
      "execution_count": 66,
      "outputs": [
        {
          "output_type": "stream",
          "name": "stdout",
          "text": [
            "<class 'pandas.core.frame.DataFrame'>\n",
            "RangeIndex: 328063 entries, 0 to 328062\n",
            "Data columns (total 24 columns):\n",
            " #   Column             Non-Null Count   Dtype  \n",
            "---  ------             --------------   -----  \n",
            " 0   Unnamed: 0         328063 non-null  int64  \n",
            " 1   id                 328063 non-null  int64  \n",
            " 2   year               328063 non-null  int64  \n",
            " 3   month              328063 non-null  int64  \n",
            " 4   day                328063 non-null  int64  \n",
            " 5   dep_time           328063 non-null  float64\n",
            " 6   sched_dep_time     328063 non-null  float64\n",
            " 7   dep_delay          328063 non-null  float64\n",
            " 8   arr_time           328063 non-null  float64\n",
            " 9   sched_arr_time     328063 non-null  float64\n",
            " 10  arr_delay          328063 non-null  float64\n",
            " 11  carrier            328063 non-null  object \n",
            " 12  flight             328063 non-null  int64  \n",
            " 13  tailnum            328063 non-null  object \n",
            " 14  origin             328063 non-null  object \n",
            " 15  dest               328063 non-null  object \n",
            " 16  air_time           327346 non-null  float64\n",
            " 17  distance           328063 non-null  int64  \n",
            " 18  hour               328063 non-null  int64  \n",
            " 19  minute             328063 non-null  int64  \n",
            " 20  time_hour          328063 non-null  object \n",
            " 21  name               328063 non-null  object \n",
            " 22  Departure delayed  328063 non-null  object \n",
            " 23  Arrival delayed    328063 non-null  object \n",
            "dtypes: float64(7), int64(9), object(8)\n",
            "memory usage: 60.1+ MB\n"
          ]
        }
      ]
    },
    {
      "cell_type": "code",
      "source": [
        "#Shape of the data\n",
        "#Check what all columns are existing\n",
        "#Check data types of columns\n",
        "#Missing values check\n",
        "#Duplicated value\n",
        "#Outliers\n",
        "\n",
        "#Data Analysis --> EDA -->\n",
        "# Univariate Analysis\n",
        "# Bivariate Analysis\n",
        "# Multivariate Analysis"
      ],
      "metadata": {
        "id": "hIgUHRZouhO0"
      },
      "execution_count": 9,
      "outputs": []
    },
    {
      "cell_type": "code",
      "source": [
        "#Dropping unnecessary column Unnamed 0\n",
        "fdata.drop(['Unnamed: 0'], axis=1, inplace=True)"
      ],
      "metadata": {
        "id": "FqSy-IQoUfFw"
      },
      "execution_count": 69,
      "outputs": []
    },
    {
      "cell_type": "code",
      "source": [
        "fdata.columns"
      ],
      "metadata": {
        "colab": {
          "base_uri": "https://localhost:8080/"
        },
        "id": "4fsAFVsQUo33",
        "outputId": "5f34df96-efdc-4939-e4e6-16b0ff67f931"
      },
      "execution_count": 72,
      "outputs": [
        {
          "output_type": "execute_result",
          "data": {
            "text/plain": [
              "Index(['id', 'year', 'month', 'day', 'dep_time', 'sched_dep_time', 'dep_delay',\n",
              "       'arr_time', 'sched_arr_time', 'arr_delay', 'carrier', 'flight',\n",
              "       'tailnum', 'origin', 'dest', 'air_time', 'distance', 'hour', 'minute',\n",
              "       'time_hour', 'name', 'Departure delayed', 'Arrival delayed'],\n",
              "      dtype='object')"
            ]
          },
          "metadata": {},
          "execution_count": 72
        }
      ]
    },
    {
      "cell_type": "code",
      "source": [
        "#Missing Values check\n",
        "fdata.isnull().sum()"
      ],
      "metadata": {
        "colab": {
          "base_uri": "https://localhost:8080/"
        },
        "id": "om_NJkBSN73r",
        "outputId": "036d7e22-7b56-4d03-87fc-baf228d19c12"
      },
      "execution_count": 70,
      "outputs": [
        {
          "output_type": "execute_result",
          "data": {
            "text/plain": [
              "id                     0\n",
              "year                   0\n",
              "month                  0\n",
              "day                    0\n",
              "dep_time               0\n",
              "sched_dep_time         0\n",
              "dep_delay              0\n",
              "arr_time               0\n",
              "sched_arr_time         0\n",
              "arr_delay              0\n",
              "carrier                0\n",
              "flight                 0\n",
              "tailnum                0\n",
              "origin                 0\n",
              "dest                   0\n",
              "air_time             717\n",
              "distance               0\n",
              "hour                   0\n",
              "minute                 0\n",
              "time_hour              0\n",
              "name                   0\n",
              "Departure delayed      0\n",
              "Arrival delayed        0\n",
              "dtype: int64"
            ]
          },
          "metadata": {},
          "execution_count": 70
        }
      ]
    },
    {
      "cell_type": "code",
      "source": [
        "fdata.head()"
      ],
      "metadata": {
        "colab": {
          "base_uri": "https://localhost:8080/",
          "height": 236
        },
        "id": "Q7fe2FcEKvnS",
        "outputId": "12ccd2db-0af8-4cdc-9df2-a352d751b591"
      },
      "execution_count": 11,
      "outputs": [
        {
          "output_type": "execute_result",
          "data": {
            "text/plain": [
              "   id  year  month  day  dep_time  sched_dep_time  dep_delay  arr_time  \\\n",
              "0   0  2013      1    1      5.17            5.15       0.02      8.30   \n",
              "1   1  2013      1    1      5.33            5.29       0.04      8.50   \n",
              "2   2  2013      1    1      5.42            5.40       0.02      9.23   \n",
              "3   3  2013      1    1      5.44            5.45      -0.01     10.04   \n",
              "4   4  2013      1    1      5.54            6.00      -0.06      8.12   \n",
              "\n",
              "   sched_arr_time  arr_delay  ... origin  dest air_time distance hour  minute  \\\n",
              "0            8.19       0.11  ...    EWR   IAH     2.27     1400    5      15   \n",
              "1            8.30       0.20  ...    LGA   IAH     2.27     1416    5      29   \n",
              "2            8.50       0.33  ...    JFK   MIA     2.00     1089    5      40   \n",
              "3           10.22      -0.18  ...    JFK   BQN     2.23     1576    5      45   \n",
              "4            8.37      -0.25  ...    LGA   ATL     1.16      762    6       0   \n",
              "\n",
              "         time_hour                    name  Departure delayed Arrival delayed  \n",
              "0  01-01-2013 5.00   United Air Lines Inc.                Yes             Yes  \n",
              "1  01-01-2013 5.00   United Air Lines Inc.                Yes             Yes  \n",
              "2  01-01-2013 5.00  American Airlines Inc.                Yes             Yes  \n",
              "3  01-01-2013 5.00         JetBlue Airways                 No              No  \n",
              "4  01-01-2013 6.00    Delta Air Lines Inc.                 No              No  \n",
              "\n",
              "[5 rows x 23 columns]"
            ],
            "text/html": [
              "\n",
              "  <div id=\"df-5f5b75b1-8022-47d9-9aef-28b5859fdca3\" class=\"colab-df-container\">\n",
              "    <div>\n",
              "<style scoped>\n",
              "    .dataframe tbody tr th:only-of-type {\n",
              "        vertical-align: middle;\n",
              "    }\n",
              "\n",
              "    .dataframe tbody tr th {\n",
              "        vertical-align: top;\n",
              "    }\n",
              "\n",
              "    .dataframe thead th {\n",
              "        text-align: right;\n",
              "    }\n",
              "</style>\n",
              "<table border=\"1\" class=\"dataframe\">\n",
              "  <thead>\n",
              "    <tr style=\"text-align: right;\">\n",
              "      <th></th>\n",
              "      <th>id</th>\n",
              "      <th>year</th>\n",
              "      <th>month</th>\n",
              "      <th>day</th>\n",
              "      <th>dep_time</th>\n",
              "      <th>sched_dep_time</th>\n",
              "      <th>dep_delay</th>\n",
              "      <th>arr_time</th>\n",
              "      <th>sched_arr_time</th>\n",
              "      <th>arr_delay</th>\n",
              "      <th>...</th>\n",
              "      <th>origin</th>\n",
              "      <th>dest</th>\n",
              "      <th>air_time</th>\n",
              "      <th>distance</th>\n",
              "      <th>hour</th>\n",
              "      <th>minute</th>\n",
              "      <th>time_hour</th>\n",
              "      <th>name</th>\n",
              "      <th>Departure delayed</th>\n",
              "      <th>Arrival delayed</th>\n",
              "    </tr>\n",
              "  </thead>\n",
              "  <tbody>\n",
              "    <tr>\n",
              "      <th>0</th>\n",
              "      <td>0</td>\n",
              "      <td>2013</td>\n",
              "      <td>1</td>\n",
              "      <td>1</td>\n",
              "      <td>5.17</td>\n",
              "      <td>5.15</td>\n",
              "      <td>0.02</td>\n",
              "      <td>8.30</td>\n",
              "      <td>8.19</td>\n",
              "      <td>0.11</td>\n",
              "      <td>...</td>\n",
              "      <td>EWR</td>\n",
              "      <td>IAH</td>\n",
              "      <td>2.27</td>\n",
              "      <td>1400</td>\n",
              "      <td>5</td>\n",
              "      <td>15</td>\n",
              "      <td>01-01-2013 5.00</td>\n",
              "      <td>United Air Lines Inc.</td>\n",
              "      <td>Yes</td>\n",
              "      <td>Yes</td>\n",
              "    </tr>\n",
              "    <tr>\n",
              "      <th>1</th>\n",
              "      <td>1</td>\n",
              "      <td>2013</td>\n",
              "      <td>1</td>\n",
              "      <td>1</td>\n",
              "      <td>5.33</td>\n",
              "      <td>5.29</td>\n",
              "      <td>0.04</td>\n",
              "      <td>8.50</td>\n",
              "      <td>8.30</td>\n",
              "      <td>0.20</td>\n",
              "      <td>...</td>\n",
              "      <td>LGA</td>\n",
              "      <td>IAH</td>\n",
              "      <td>2.27</td>\n",
              "      <td>1416</td>\n",
              "      <td>5</td>\n",
              "      <td>29</td>\n",
              "      <td>01-01-2013 5.00</td>\n",
              "      <td>United Air Lines Inc.</td>\n",
              "      <td>Yes</td>\n",
              "      <td>Yes</td>\n",
              "    </tr>\n",
              "    <tr>\n",
              "      <th>2</th>\n",
              "      <td>2</td>\n",
              "      <td>2013</td>\n",
              "      <td>1</td>\n",
              "      <td>1</td>\n",
              "      <td>5.42</td>\n",
              "      <td>5.40</td>\n",
              "      <td>0.02</td>\n",
              "      <td>9.23</td>\n",
              "      <td>8.50</td>\n",
              "      <td>0.33</td>\n",
              "      <td>...</td>\n",
              "      <td>JFK</td>\n",
              "      <td>MIA</td>\n",
              "      <td>2.00</td>\n",
              "      <td>1089</td>\n",
              "      <td>5</td>\n",
              "      <td>40</td>\n",
              "      <td>01-01-2013 5.00</td>\n",
              "      <td>American Airlines Inc.</td>\n",
              "      <td>Yes</td>\n",
              "      <td>Yes</td>\n",
              "    </tr>\n",
              "    <tr>\n",
              "      <th>3</th>\n",
              "      <td>3</td>\n",
              "      <td>2013</td>\n",
              "      <td>1</td>\n",
              "      <td>1</td>\n",
              "      <td>5.44</td>\n",
              "      <td>5.45</td>\n",
              "      <td>-0.01</td>\n",
              "      <td>10.04</td>\n",
              "      <td>10.22</td>\n",
              "      <td>-0.18</td>\n",
              "      <td>...</td>\n",
              "      <td>JFK</td>\n",
              "      <td>BQN</td>\n",
              "      <td>2.23</td>\n",
              "      <td>1576</td>\n",
              "      <td>5</td>\n",
              "      <td>45</td>\n",
              "      <td>01-01-2013 5.00</td>\n",
              "      <td>JetBlue Airways</td>\n",
              "      <td>No</td>\n",
              "      <td>No</td>\n",
              "    </tr>\n",
              "    <tr>\n",
              "      <th>4</th>\n",
              "      <td>4</td>\n",
              "      <td>2013</td>\n",
              "      <td>1</td>\n",
              "      <td>1</td>\n",
              "      <td>5.54</td>\n",
              "      <td>6.00</td>\n",
              "      <td>-0.06</td>\n",
              "      <td>8.12</td>\n",
              "      <td>8.37</td>\n",
              "      <td>-0.25</td>\n",
              "      <td>...</td>\n",
              "      <td>LGA</td>\n",
              "      <td>ATL</td>\n",
              "      <td>1.16</td>\n",
              "      <td>762</td>\n",
              "      <td>6</td>\n",
              "      <td>0</td>\n",
              "      <td>01-01-2013 6.00</td>\n",
              "      <td>Delta Air Lines Inc.</td>\n",
              "      <td>No</td>\n",
              "      <td>No</td>\n",
              "    </tr>\n",
              "  </tbody>\n",
              "</table>\n",
              "<p>5 rows × 23 columns</p>\n",
              "</div>\n",
              "    <div class=\"colab-df-buttons\">\n",
              "\n",
              "  <div class=\"colab-df-container\">\n",
              "    <button class=\"colab-df-convert\" onclick=\"convertToInteractive('df-5f5b75b1-8022-47d9-9aef-28b5859fdca3')\"\n",
              "            title=\"Convert this dataframe to an interactive table.\"\n",
              "            style=\"display:none;\">\n",
              "\n",
              "  <svg xmlns=\"http://www.w3.org/2000/svg\" height=\"24px\" viewBox=\"0 -960 960 960\">\n",
              "    <path d=\"M120-120v-720h720v720H120Zm60-500h600v-160H180v160Zm220 220h160v-160H400v160Zm0 220h160v-160H400v160ZM180-400h160v-160H180v160Zm440 0h160v-160H620v160ZM180-180h160v-160H180v160Zm440 0h160v-160H620v160Z\"/>\n",
              "  </svg>\n",
              "    </button>\n",
              "\n",
              "  <style>\n",
              "    .colab-df-container {\n",
              "      display:flex;\n",
              "      gap: 12px;\n",
              "    }\n",
              "\n",
              "    .colab-df-convert {\n",
              "      background-color: #E8F0FE;\n",
              "      border: none;\n",
              "      border-radius: 50%;\n",
              "      cursor: pointer;\n",
              "      display: none;\n",
              "      fill: #1967D2;\n",
              "      height: 32px;\n",
              "      padding: 0 0 0 0;\n",
              "      width: 32px;\n",
              "    }\n",
              "\n",
              "    .colab-df-convert:hover {\n",
              "      background-color: #E2EBFA;\n",
              "      box-shadow: 0px 1px 2px rgba(60, 64, 67, 0.3), 0px 1px 3px 1px rgba(60, 64, 67, 0.15);\n",
              "      fill: #174EA6;\n",
              "    }\n",
              "\n",
              "    .colab-df-buttons div {\n",
              "      margin-bottom: 4px;\n",
              "    }\n",
              "\n",
              "    [theme=dark] .colab-df-convert {\n",
              "      background-color: #3B4455;\n",
              "      fill: #D2E3FC;\n",
              "    }\n",
              "\n",
              "    [theme=dark] .colab-df-convert:hover {\n",
              "      background-color: #434B5C;\n",
              "      box-shadow: 0px 1px 3px 1px rgba(0, 0, 0, 0.15);\n",
              "      filter: drop-shadow(0px 1px 2px rgba(0, 0, 0, 0.3));\n",
              "      fill: #FFFFFF;\n",
              "    }\n",
              "  </style>\n",
              "\n",
              "    <script>\n",
              "      const buttonEl =\n",
              "        document.querySelector('#df-5f5b75b1-8022-47d9-9aef-28b5859fdca3 button.colab-df-convert');\n",
              "      buttonEl.style.display =\n",
              "        google.colab.kernel.accessAllowed ? 'block' : 'none';\n",
              "\n",
              "      async function convertToInteractive(key) {\n",
              "        const element = document.querySelector('#df-5f5b75b1-8022-47d9-9aef-28b5859fdca3');\n",
              "        const dataTable =\n",
              "          await google.colab.kernel.invokeFunction('convertToInteractive',\n",
              "                                                    [key], {});\n",
              "        if (!dataTable) return;\n",
              "\n",
              "        const docLinkHtml = 'Like what you see? Visit the ' +\n",
              "          '<a target=\"_blank\" href=https://colab.research.google.com/notebooks/data_table.ipynb>data table notebook</a>'\n",
              "          + ' to learn more about interactive tables.';\n",
              "        element.innerHTML = '';\n",
              "        dataTable['output_type'] = 'display_data';\n",
              "        await google.colab.output.renderOutput(dataTable, element);\n",
              "        const docLink = document.createElement('div');\n",
              "        docLink.innerHTML = docLinkHtml;\n",
              "        element.appendChild(docLink);\n",
              "      }\n",
              "    </script>\n",
              "  </div>\n",
              "\n",
              "\n",
              "<div id=\"df-77cc3d95-5e3e-4817-bebc-289b8fd6ad02\">\n",
              "  <button class=\"colab-df-quickchart\" onclick=\"quickchart('df-77cc3d95-5e3e-4817-bebc-289b8fd6ad02')\"\n",
              "            title=\"Suggest charts\"\n",
              "            style=\"display:none;\">\n",
              "\n",
              "<svg xmlns=\"http://www.w3.org/2000/svg\" height=\"24px\"viewBox=\"0 0 24 24\"\n",
              "     width=\"24px\">\n",
              "    <g>\n",
              "        <path d=\"M19 3H5c-1.1 0-2 .9-2 2v14c0 1.1.9 2 2 2h14c1.1 0 2-.9 2-2V5c0-1.1-.9-2-2-2zM9 17H7v-7h2v7zm4 0h-2V7h2v10zm4 0h-2v-4h2v4z\"/>\n",
              "    </g>\n",
              "</svg>\n",
              "  </button>\n",
              "\n",
              "<style>\n",
              "  .colab-df-quickchart {\n",
              "      --bg-color: #E8F0FE;\n",
              "      --fill-color: #1967D2;\n",
              "      --hover-bg-color: #E2EBFA;\n",
              "      --hover-fill-color: #174EA6;\n",
              "      --disabled-fill-color: #AAA;\n",
              "      --disabled-bg-color: #DDD;\n",
              "  }\n",
              "\n",
              "  [theme=dark] .colab-df-quickchart {\n",
              "      --bg-color: #3B4455;\n",
              "      --fill-color: #D2E3FC;\n",
              "      --hover-bg-color: #434B5C;\n",
              "      --hover-fill-color: #FFFFFF;\n",
              "      --disabled-bg-color: #3B4455;\n",
              "      --disabled-fill-color: #666;\n",
              "  }\n",
              "\n",
              "  .colab-df-quickchart {\n",
              "    background-color: var(--bg-color);\n",
              "    border: none;\n",
              "    border-radius: 50%;\n",
              "    cursor: pointer;\n",
              "    display: none;\n",
              "    fill: var(--fill-color);\n",
              "    height: 32px;\n",
              "    padding: 0;\n",
              "    width: 32px;\n",
              "  }\n",
              "\n",
              "  .colab-df-quickchart:hover {\n",
              "    background-color: var(--hover-bg-color);\n",
              "    box-shadow: 0 1px 2px rgba(60, 64, 67, 0.3), 0 1px 3px 1px rgba(60, 64, 67, 0.15);\n",
              "    fill: var(--button-hover-fill-color);\n",
              "  }\n",
              "\n",
              "  .colab-df-quickchart-complete:disabled,\n",
              "  .colab-df-quickchart-complete:disabled:hover {\n",
              "    background-color: var(--disabled-bg-color);\n",
              "    fill: var(--disabled-fill-color);\n",
              "    box-shadow: none;\n",
              "  }\n",
              "\n",
              "  .colab-df-spinner {\n",
              "    border: 2px solid var(--fill-color);\n",
              "    border-color: transparent;\n",
              "    border-bottom-color: var(--fill-color);\n",
              "    animation:\n",
              "      spin 1s steps(1) infinite;\n",
              "  }\n",
              "\n",
              "  @keyframes spin {\n",
              "    0% {\n",
              "      border-color: transparent;\n",
              "      border-bottom-color: var(--fill-color);\n",
              "      border-left-color: var(--fill-color);\n",
              "    }\n",
              "    20% {\n",
              "      border-color: transparent;\n",
              "      border-left-color: var(--fill-color);\n",
              "      border-top-color: var(--fill-color);\n",
              "    }\n",
              "    30% {\n",
              "      border-color: transparent;\n",
              "      border-left-color: var(--fill-color);\n",
              "      border-top-color: var(--fill-color);\n",
              "      border-right-color: var(--fill-color);\n",
              "    }\n",
              "    40% {\n",
              "      border-color: transparent;\n",
              "      border-right-color: var(--fill-color);\n",
              "      border-top-color: var(--fill-color);\n",
              "    }\n",
              "    60% {\n",
              "      border-color: transparent;\n",
              "      border-right-color: var(--fill-color);\n",
              "    }\n",
              "    80% {\n",
              "      border-color: transparent;\n",
              "      border-right-color: var(--fill-color);\n",
              "      border-bottom-color: var(--fill-color);\n",
              "    }\n",
              "    90% {\n",
              "      border-color: transparent;\n",
              "      border-bottom-color: var(--fill-color);\n",
              "    }\n",
              "  }\n",
              "</style>\n",
              "\n",
              "  <script>\n",
              "    async function quickchart(key) {\n",
              "      const quickchartButtonEl =\n",
              "        document.querySelector('#' + key + ' button');\n",
              "      quickchartButtonEl.disabled = true;  // To prevent multiple clicks.\n",
              "      quickchartButtonEl.classList.add('colab-df-spinner');\n",
              "      try {\n",
              "        const charts = await google.colab.kernel.invokeFunction(\n",
              "            'suggestCharts', [key], {});\n",
              "      } catch (error) {\n",
              "        console.error('Error during call to suggestCharts:', error);\n",
              "      }\n",
              "      quickchartButtonEl.classList.remove('colab-df-spinner');\n",
              "      quickchartButtonEl.classList.add('colab-df-quickchart-complete');\n",
              "    }\n",
              "    (() => {\n",
              "      let quickchartButtonEl =\n",
              "        document.querySelector('#df-77cc3d95-5e3e-4817-bebc-289b8fd6ad02 button');\n",
              "      quickchartButtonEl.style.display =\n",
              "        google.colab.kernel.accessAllowed ? 'block' : 'none';\n",
              "    })();\n",
              "  </script>\n",
              "</div>\n",
              "\n",
              "    </div>\n",
              "  </div>\n"
            ],
            "application/vnd.google.colaboratory.intrinsic+json": {
              "type": "dataframe",
              "variable_name": "fdata"
            }
          },
          "metadata": {},
          "execution_count": 11
        }
      ]
    },
    {
      "cell_type": "code",
      "source": [
        "#Deleting the rows which have null values in Departure time and arrival time column\n",
        "fdata.dropna(subset=['dep_time','arr_time'],inplace=True)\n"
      ],
      "metadata": {
        "id": "ULgORHkmKYkZ"
      },
      "execution_count": 12,
      "outputs": []
    },
    {
      "cell_type": "code",
      "source": [
        "fdata.isnull().sum()"
      ],
      "metadata": {
        "colab": {
          "base_uri": "https://localhost:8080/"
        },
        "id": "54EvzG0rKkxW",
        "outputId": "4c74c2bb-dd88-4bf7-94a8-318971b0d51b"
      },
      "execution_count": 13,
      "outputs": [
        {
          "output_type": "execute_result",
          "data": {
            "text/plain": [
              "id                     0\n",
              "year                   0\n",
              "month                  0\n",
              "day                    0\n",
              "dep_time               0\n",
              "sched_dep_time         0\n",
              "dep_delay              0\n",
              "arr_time               0\n",
              "sched_arr_time         0\n",
              "arr_delay              0\n",
              "carrier                0\n",
              "flight                 0\n",
              "tailnum                0\n",
              "origin                 0\n",
              "dest                   0\n",
              "air_time             717\n",
              "distance               0\n",
              "hour                   0\n",
              "minute                 0\n",
              "time_hour              0\n",
              "name                   0\n",
              "Departure delayed      0\n",
              "Arrival delayed        0\n",
              "dtype: int64"
            ]
          },
          "metadata": {},
          "execution_count": 13
        }
      ]
    },
    {
      "cell_type": "code",
      "source": [
        "fdata.duplicated().sum()"
      ],
      "metadata": {
        "id": "WncBvBGTQSRD",
        "colab": {
          "base_uri": "https://localhost:8080/"
        },
        "outputId": "5f3f495d-ca51-4837-b9e8-21134b48de0f"
      },
      "execution_count": 14,
      "outputs": [
        {
          "output_type": "execute_result",
          "data": {
            "text/plain": [
              "0"
            ]
          },
          "metadata": {},
          "execution_count": 14
        }
      ]
    },
    {
      "cell_type": "code",
      "source": [
        "# Replacing null values in arrival and departure delay as Zero\n",
        "fdata['dep_delay'].fillna(0,inplace=True)\n",
        "fdata['arr_delay'].fillna(0,inplace=True)\n",
        "\n"
      ],
      "metadata": {
        "id": "JpULa5ChLohQ"
      },
      "execution_count": 15,
      "outputs": []
    },
    {
      "cell_type": "code",
      "source": [
        "fdata.isnull().sum()"
      ],
      "metadata": {
        "colab": {
          "base_uri": "https://localhost:8080/"
        },
        "id": "miPTy4kdESPT",
        "outputId": "1e1970f4-9076-4686-ed6b-c6a4a47122b1"
      },
      "execution_count": 16,
      "outputs": [
        {
          "output_type": "execute_result",
          "data": {
            "text/plain": [
              "id                     0\n",
              "year                   0\n",
              "month                  0\n",
              "day                    0\n",
              "dep_time               0\n",
              "sched_dep_time         0\n",
              "dep_delay              0\n",
              "arr_time               0\n",
              "sched_arr_time         0\n",
              "arr_delay              0\n",
              "carrier                0\n",
              "flight                 0\n",
              "tailnum                0\n",
              "origin                 0\n",
              "dest                   0\n",
              "air_time             717\n",
              "distance               0\n",
              "hour                   0\n",
              "minute                 0\n",
              "time_hour              0\n",
              "name                   0\n",
              "Departure delayed      0\n",
              "Arrival delayed        0\n",
              "dtype: int64"
            ]
          },
          "metadata": {},
          "execution_count": 16
        }
      ]
    },
    {
      "cell_type": "code",
      "source": [
        "#Create two columns to determine departure delayed:Yes or No & Arrival delayed :Yes or No\n",
        "fdata['Departure delayed']=np.where(fdata['dep_delay']>0,'Yes','No')\n",
        "fdata['Arrival delayed']=np.where(fdata['arr_delay']>0,'Yes','No')\n",
        "fdata.to_csv('/content/drive/MyDrive/DA-Projects/Flight analytics/Data sets/flights_2.csv')\n"
      ],
      "metadata": {
        "id": "o6xawsS4FtZH"
      },
      "execution_count": 17,
      "outputs": []
    },
    {
      "cell_type": "code",
      "source": [
        "fdata.head()"
      ],
      "metadata": {
        "colab": {
          "base_uri": "https://localhost:8080/",
          "height": 236
        },
        "id": "Nh-ofbi4Gwep",
        "outputId": "03d9cacc-b8dd-4303-e71a-fd513ad41f2f"
      },
      "execution_count": 18,
      "outputs": [
        {
          "output_type": "execute_result",
          "data": {
            "text/plain": [
              "   id  year  month  day  dep_time  sched_dep_time  dep_delay  arr_time  \\\n",
              "0   0  2013      1    1      5.17            5.15       0.02      8.30   \n",
              "1   1  2013      1    1      5.33            5.29       0.04      8.50   \n",
              "2   2  2013      1    1      5.42            5.40       0.02      9.23   \n",
              "3   3  2013      1    1      5.44            5.45      -0.01     10.04   \n",
              "4   4  2013      1    1      5.54            6.00      -0.06      8.12   \n",
              "\n",
              "   sched_arr_time  arr_delay  ... origin  dest air_time distance hour  minute  \\\n",
              "0            8.19       0.11  ...    EWR   IAH     2.27     1400    5      15   \n",
              "1            8.30       0.20  ...    LGA   IAH     2.27     1416    5      29   \n",
              "2            8.50       0.33  ...    JFK   MIA     2.00     1089    5      40   \n",
              "3           10.22      -0.18  ...    JFK   BQN     2.23     1576    5      45   \n",
              "4            8.37      -0.25  ...    LGA   ATL     1.16      762    6       0   \n",
              "\n",
              "         time_hour                    name  Departure delayed Arrival delayed  \n",
              "0  01-01-2013 5.00   United Air Lines Inc.                Yes             Yes  \n",
              "1  01-01-2013 5.00   United Air Lines Inc.                Yes             Yes  \n",
              "2  01-01-2013 5.00  American Airlines Inc.                Yes             Yes  \n",
              "3  01-01-2013 5.00         JetBlue Airways                 No              No  \n",
              "4  01-01-2013 6.00    Delta Air Lines Inc.                 No              No  \n",
              "\n",
              "[5 rows x 23 columns]"
            ],
            "text/html": [
              "\n",
              "  <div id=\"df-d8d9d79b-c799-4025-9061-2cba47214077\" class=\"colab-df-container\">\n",
              "    <div>\n",
              "<style scoped>\n",
              "    .dataframe tbody tr th:only-of-type {\n",
              "        vertical-align: middle;\n",
              "    }\n",
              "\n",
              "    .dataframe tbody tr th {\n",
              "        vertical-align: top;\n",
              "    }\n",
              "\n",
              "    .dataframe thead th {\n",
              "        text-align: right;\n",
              "    }\n",
              "</style>\n",
              "<table border=\"1\" class=\"dataframe\">\n",
              "  <thead>\n",
              "    <tr style=\"text-align: right;\">\n",
              "      <th></th>\n",
              "      <th>id</th>\n",
              "      <th>year</th>\n",
              "      <th>month</th>\n",
              "      <th>day</th>\n",
              "      <th>dep_time</th>\n",
              "      <th>sched_dep_time</th>\n",
              "      <th>dep_delay</th>\n",
              "      <th>arr_time</th>\n",
              "      <th>sched_arr_time</th>\n",
              "      <th>arr_delay</th>\n",
              "      <th>...</th>\n",
              "      <th>origin</th>\n",
              "      <th>dest</th>\n",
              "      <th>air_time</th>\n",
              "      <th>distance</th>\n",
              "      <th>hour</th>\n",
              "      <th>minute</th>\n",
              "      <th>time_hour</th>\n",
              "      <th>name</th>\n",
              "      <th>Departure delayed</th>\n",
              "      <th>Arrival delayed</th>\n",
              "    </tr>\n",
              "  </thead>\n",
              "  <tbody>\n",
              "    <tr>\n",
              "      <th>0</th>\n",
              "      <td>0</td>\n",
              "      <td>2013</td>\n",
              "      <td>1</td>\n",
              "      <td>1</td>\n",
              "      <td>5.17</td>\n",
              "      <td>5.15</td>\n",
              "      <td>0.02</td>\n",
              "      <td>8.30</td>\n",
              "      <td>8.19</td>\n",
              "      <td>0.11</td>\n",
              "      <td>...</td>\n",
              "      <td>EWR</td>\n",
              "      <td>IAH</td>\n",
              "      <td>2.27</td>\n",
              "      <td>1400</td>\n",
              "      <td>5</td>\n",
              "      <td>15</td>\n",
              "      <td>01-01-2013 5.00</td>\n",
              "      <td>United Air Lines Inc.</td>\n",
              "      <td>Yes</td>\n",
              "      <td>Yes</td>\n",
              "    </tr>\n",
              "    <tr>\n",
              "      <th>1</th>\n",
              "      <td>1</td>\n",
              "      <td>2013</td>\n",
              "      <td>1</td>\n",
              "      <td>1</td>\n",
              "      <td>5.33</td>\n",
              "      <td>5.29</td>\n",
              "      <td>0.04</td>\n",
              "      <td>8.50</td>\n",
              "      <td>8.30</td>\n",
              "      <td>0.20</td>\n",
              "      <td>...</td>\n",
              "      <td>LGA</td>\n",
              "      <td>IAH</td>\n",
              "      <td>2.27</td>\n",
              "      <td>1416</td>\n",
              "      <td>5</td>\n",
              "      <td>29</td>\n",
              "      <td>01-01-2013 5.00</td>\n",
              "      <td>United Air Lines Inc.</td>\n",
              "      <td>Yes</td>\n",
              "      <td>Yes</td>\n",
              "    </tr>\n",
              "    <tr>\n",
              "      <th>2</th>\n",
              "      <td>2</td>\n",
              "      <td>2013</td>\n",
              "      <td>1</td>\n",
              "      <td>1</td>\n",
              "      <td>5.42</td>\n",
              "      <td>5.40</td>\n",
              "      <td>0.02</td>\n",
              "      <td>9.23</td>\n",
              "      <td>8.50</td>\n",
              "      <td>0.33</td>\n",
              "      <td>...</td>\n",
              "      <td>JFK</td>\n",
              "      <td>MIA</td>\n",
              "      <td>2.00</td>\n",
              "      <td>1089</td>\n",
              "      <td>5</td>\n",
              "      <td>40</td>\n",
              "      <td>01-01-2013 5.00</td>\n",
              "      <td>American Airlines Inc.</td>\n",
              "      <td>Yes</td>\n",
              "      <td>Yes</td>\n",
              "    </tr>\n",
              "    <tr>\n",
              "      <th>3</th>\n",
              "      <td>3</td>\n",
              "      <td>2013</td>\n",
              "      <td>1</td>\n",
              "      <td>1</td>\n",
              "      <td>5.44</td>\n",
              "      <td>5.45</td>\n",
              "      <td>-0.01</td>\n",
              "      <td>10.04</td>\n",
              "      <td>10.22</td>\n",
              "      <td>-0.18</td>\n",
              "      <td>...</td>\n",
              "      <td>JFK</td>\n",
              "      <td>BQN</td>\n",
              "      <td>2.23</td>\n",
              "      <td>1576</td>\n",
              "      <td>5</td>\n",
              "      <td>45</td>\n",
              "      <td>01-01-2013 5.00</td>\n",
              "      <td>JetBlue Airways</td>\n",
              "      <td>No</td>\n",
              "      <td>No</td>\n",
              "    </tr>\n",
              "    <tr>\n",
              "      <th>4</th>\n",
              "      <td>4</td>\n",
              "      <td>2013</td>\n",
              "      <td>1</td>\n",
              "      <td>1</td>\n",
              "      <td>5.54</td>\n",
              "      <td>6.00</td>\n",
              "      <td>-0.06</td>\n",
              "      <td>8.12</td>\n",
              "      <td>8.37</td>\n",
              "      <td>-0.25</td>\n",
              "      <td>...</td>\n",
              "      <td>LGA</td>\n",
              "      <td>ATL</td>\n",
              "      <td>1.16</td>\n",
              "      <td>762</td>\n",
              "      <td>6</td>\n",
              "      <td>0</td>\n",
              "      <td>01-01-2013 6.00</td>\n",
              "      <td>Delta Air Lines Inc.</td>\n",
              "      <td>No</td>\n",
              "      <td>No</td>\n",
              "    </tr>\n",
              "  </tbody>\n",
              "</table>\n",
              "<p>5 rows × 23 columns</p>\n",
              "</div>\n",
              "    <div class=\"colab-df-buttons\">\n",
              "\n",
              "  <div class=\"colab-df-container\">\n",
              "    <button class=\"colab-df-convert\" onclick=\"convertToInteractive('df-d8d9d79b-c799-4025-9061-2cba47214077')\"\n",
              "            title=\"Convert this dataframe to an interactive table.\"\n",
              "            style=\"display:none;\">\n",
              "\n",
              "  <svg xmlns=\"http://www.w3.org/2000/svg\" height=\"24px\" viewBox=\"0 -960 960 960\">\n",
              "    <path d=\"M120-120v-720h720v720H120Zm60-500h600v-160H180v160Zm220 220h160v-160H400v160Zm0 220h160v-160H400v160ZM180-400h160v-160H180v160Zm440 0h160v-160H620v160ZM180-180h160v-160H180v160Zm440 0h160v-160H620v160Z\"/>\n",
              "  </svg>\n",
              "    </button>\n",
              "\n",
              "  <style>\n",
              "    .colab-df-container {\n",
              "      display:flex;\n",
              "      gap: 12px;\n",
              "    }\n",
              "\n",
              "    .colab-df-convert {\n",
              "      background-color: #E8F0FE;\n",
              "      border: none;\n",
              "      border-radius: 50%;\n",
              "      cursor: pointer;\n",
              "      display: none;\n",
              "      fill: #1967D2;\n",
              "      height: 32px;\n",
              "      padding: 0 0 0 0;\n",
              "      width: 32px;\n",
              "    }\n",
              "\n",
              "    .colab-df-convert:hover {\n",
              "      background-color: #E2EBFA;\n",
              "      box-shadow: 0px 1px 2px rgba(60, 64, 67, 0.3), 0px 1px 3px 1px rgba(60, 64, 67, 0.15);\n",
              "      fill: #174EA6;\n",
              "    }\n",
              "\n",
              "    .colab-df-buttons div {\n",
              "      margin-bottom: 4px;\n",
              "    }\n",
              "\n",
              "    [theme=dark] .colab-df-convert {\n",
              "      background-color: #3B4455;\n",
              "      fill: #D2E3FC;\n",
              "    }\n",
              "\n",
              "    [theme=dark] .colab-df-convert:hover {\n",
              "      background-color: #434B5C;\n",
              "      box-shadow: 0px 1px 3px 1px rgba(0, 0, 0, 0.15);\n",
              "      filter: drop-shadow(0px 1px 2px rgba(0, 0, 0, 0.3));\n",
              "      fill: #FFFFFF;\n",
              "    }\n",
              "  </style>\n",
              "\n",
              "    <script>\n",
              "      const buttonEl =\n",
              "        document.querySelector('#df-d8d9d79b-c799-4025-9061-2cba47214077 button.colab-df-convert');\n",
              "      buttonEl.style.display =\n",
              "        google.colab.kernel.accessAllowed ? 'block' : 'none';\n",
              "\n",
              "      async function convertToInteractive(key) {\n",
              "        const element = document.querySelector('#df-d8d9d79b-c799-4025-9061-2cba47214077');\n",
              "        const dataTable =\n",
              "          await google.colab.kernel.invokeFunction('convertToInteractive',\n",
              "                                                    [key], {});\n",
              "        if (!dataTable) return;\n",
              "\n",
              "        const docLinkHtml = 'Like what you see? Visit the ' +\n",
              "          '<a target=\"_blank\" href=https://colab.research.google.com/notebooks/data_table.ipynb>data table notebook</a>'\n",
              "          + ' to learn more about interactive tables.';\n",
              "        element.innerHTML = '';\n",
              "        dataTable['output_type'] = 'display_data';\n",
              "        await google.colab.output.renderOutput(dataTable, element);\n",
              "        const docLink = document.createElement('div');\n",
              "        docLink.innerHTML = docLinkHtml;\n",
              "        element.appendChild(docLink);\n",
              "      }\n",
              "    </script>\n",
              "  </div>\n",
              "\n",
              "\n",
              "<div id=\"df-af3d748a-90f6-441c-89e5-8dae44d74357\">\n",
              "  <button class=\"colab-df-quickchart\" onclick=\"quickchart('df-af3d748a-90f6-441c-89e5-8dae44d74357')\"\n",
              "            title=\"Suggest charts\"\n",
              "            style=\"display:none;\">\n",
              "\n",
              "<svg xmlns=\"http://www.w3.org/2000/svg\" height=\"24px\"viewBox=\"0 0 24 24\"\n",
              "     width=\"24px\">\n",
              "    <g>\n",
              "        <path d=\"M19 3H5c-1.1 0-2 .9-2 2v14c0 1.1.9 2 2 2h14c1.1 0 2-.9 2-2V5c0-1.1-.9-2-2-2zM9 17H7v-7h2v7zm4 0h-2V7h2v10zm4 0h-2v-4h2v4z\"/>\n",
              "    </g>\n",
              "</svg>\n",
              "  </button>\n",
              "\n",
              "<style>\n",
              "  .colab-df-quickchart {\n",
              "      --bg-color: #E8F0FE;\n",
              "      --fill-color: #1967D2;\n",
              "      --hover-bg-color: #E2EBFA;\n",
              "      --hover-fill-color: #174EA6;\n",
              "      --disabled-fill-color: #AAA;\n",
              "      --disabled-bg-color: #DDD;\n",
              "  }\n",
              "\n",
              "  [theme=dark] .colab-df-quickchart {\n",
              "      --bg-color: #3B4455;\n",
              "      --fill-color: #D2E3FC;\n",
              "      --hover-bg-color: #434B5C;\n",
              "      --hover-fill-color: #FFFFFF;\n",
              "      --disabled-bg-color: #3B4455;\n",
              "      --disabled-fill-color: #666;\n",
              "  }\n",
              "\n",
              "  .colab-df-quickchart {\n",
              "    background-color: var(--bg-color);\n",
              "    border: none;\n",
              "    border-radius: 50%;\n",
              "    cursor: pointer;\n",
              "    display: none;\n",
              "    fill: var(--fill-color);\n",
              "    height: 32px;\n",
              "    padding: 0;\n",
              "    width: 32px;\n",
              "  }\n",
              "\n",
              "  .colab-df-quickchart:hover {\n",
              "    background-color: var(--hover-bg-color);\n",
              "    box-shadow: 0 1px 2px rgba(60, 64, 67, 0.3), 0 1px 3px 1px rgba(60, 64, 67, 0.15);\n",
              "    fill: var(--button-hover-fill-color);\n",
              "  }\n",
              "\n",
              "  .colab-df-quickchart-complete:disabled,\n",
              "  .colab-df-quickchart-complete:disabled:hover {\n",
              "    background-color: var(--disabled-bg-color);\n",
              "    fill: var(--disabled-fill-color);\n",
              "    box-shadow: none;\n",
              "  }\n",
              "\n",
              "  .colab-df-spinner {\n",
              "    border: 2px solid var(--fill-color);\n",
              "    border-color: transparent;\n",
              "    border-bottom-color: var(--fill-color);\n",
              "    animation:\n",
              "      spin 1s steps(1) infinite;\n",
              "  }\n",
              "\n",
              "  @keyframes spin {\n",
              "    0% {\n",
              "      border-color: transparent;\n",
              "      border-bottom-color: var(--fill-color);\n",
              "      border-left-color: var(--fill-color);\n",
              "    }\n",
              "    20% {\n",
              "      border-color: transparent;\n",
              "      border-left-color: var(--fill-color);\n",
              "      border-top-color: var(--fill-color);\n",
              "    }\n",
              "    30% {\n",
              "      border-color: transparent;\n",
              "      border-left-color: var(--fill-color);\n",
              "      border-top-color: var(--fill-color);\n",
              "      border-right-color: var(--fill-color);\n",
              "    }\n",
              "    40% {\n",
              "      border-color: transparent;\n",
              "      border-right-color: var(--fill-color);\n",
              "      border-top-color: var(--fill-color);\n",
              "    }\n",
              "    60% {\n",
              "      border-color: transparent;\n",
              "      border-right-color: var(--fill-color);\n",
              "    }\n",
              "    80% {\n",
              "      border-color: transparent;\n",
              "      border-right-color: var(--fill-color);\n",
              "      border-bottom-color: var(--fill-color);\n",
              "    }\n",
              "    90% {\n",
              "      border-color: transparent;\n",
              "      border-bottom-color: var(--fill-color);\n",
              "    }\n",
              "  }\n",
              "</style>\n",
              "\n",
              "  <script>\n",
              "    async function quickchart(key) {\n",
              "      const quickchartButtonEl =\n",
              "        document.querySelector('#' + key + ' button');\n",
              "      quickchartButtonEl.disabled = true;  // To prevent multiple clicks.\n",
              "      quickchartButtonEl.classList.add('colab-df-spinner');\n",
              "      try {\n",
              "        const charts = await google.colab.kernel.invokeFunction(\n",
              "            'suggestCharts', [key], {});\n",
              "      } catch (error) {\n",
              "        console.error('Error during call to suggestCharts:', error);\n",
              "      }\n",
              "      quickchartButtonEl.classList.remove('colab-df-spinner');\n",
              "      quickchartButtonEl.classList.add('colab-df-quickchart-complete');\n",
              "    }\n",
              "    (() => {\n",
              "      let quickchartButtonEl =\n",
              "        document.querySelector('#df-af3d748a-90f6-441c-89e5-8dae44d74357 button');\n",
              "      quickchartButtonEl.style.display =\n",
              "        google.colab.kernel.accessAllowed ? 'block' : 'none';\n",
              "    })();\n",
              "  </script>\n",
              "</div>\n",
              "\n",
              "    </div>\n",
              "  </div>\n"
            ],
            "application/vnd.google.colaboratory.intrinsic+json": {
              "type": "dataframe",
              "variable_name": "fdata"
            }
          },
          "metadata": {},
          "execution_count": 18
        }
      ]
    },
    {
      "cell_type": "markdown",
      "source": [
        "# Analyse Flights , counts and trends in activity"
      ],
      "metadata": {
        "id": "wfa_7z7YPhTZ"
      }
    },
    {
      "cell_type": "code",
      "source": [
        "#Flight count by month\n",
        "Flights_by_Month=fdata.groupby('month')['id'].count().sort_values(ascending=False)\n",
        "Flights_by_Month"
      ],
      "metadata": {
        "colab": {
          "base_uri": "https://localhost:8080/"
        },
        "id": "OKbjqu4gQpTW",
        "outputId": "d78663d5-ffa9-4824-8322-ec8ffca9eaa9"
      },
      "execution_count": 57,
      "outputs": [
        {
          "output_type": "execute_result",
          "data": {
            "text/plain": [
              "month\n",
              "8     28821\n",
              "10    28642\n",
              "7     28382\n",
              "5     28195\n",
              "3     27943\n",
              "4     27620\n",
              "6     27171\n",
              "12    27076\n",
              "9     27070\n",
              "11    27015\n",
              "1     26468\n",
              "2     23660\n",
              "Name: id, dtype: int64"
            ]
          },
          "metadata": {},
          "execution_count": 57
        }
      ]
    },
    {
      "cell_type": "code",
      "source": [
        "plt.figure(figsize=(10, 6))\n",
        "sns.countplot(x='month', data=fdata,color='green')\n",
        "plt.title('Flights by Month')\n",
        "plt.xlabel('Month')\n",
        "plt.ylabel('Count')\n",
        "plt.show()"
      ],
      "metadata": {
        "colab": {
          "base_uri": "https://localhost:8080/",
          "height": 564
        },
        "id": "VINtiaiSYWPw",
        "outputId": "08dd466e-5527-43e8-b13c-ddf35cca1c0e"
      },
      "execution_count": 81,
      "outputs": [
        {
          "output_type": "display_data",
          "data": {
            "text/plain": [
              "<Figure size 1000x600 with 1 Axes>"
            ],
            "image/png": "[encoded data removed]"
          },
          "metadata": {}
        }
      ]
    },
    {
      "cell_type": "markdown",
      "source": [
        "August of 2013 shows more number of flights with count 28,821, which flew from NY airports to multiple destinations across US, followed by Octobor with count of 28,642"
      ],
      "metadata": {
        "id": "y-8NAlzSVzF0"
      }
    },
    {
      "cell_type": "code",
      "source": [
        "#Number of flights by airline\n",
        "Flights_by_Airline=fdata.groupby('name')['id'].count().sort_values(ascending=False)\n",
        "Flights_by_Airline"
      ],
      "metadata": {
        "colab": {
          "base_uri": "https://localhost:8080/"
        },
        "id": "-noGW8deXXbI",
        "outputId": "0574e84c-7403-4157-b4a9-8bb2b979d190"
      },
      "execution_count": 76,
      "outputs": [
        {
          "output_type": "execute_result",
          "data": {
            "text/plain": [
              "name\n",
              "United Air Lines Inc.          57916\n",
              "JetBlue Airways                54137\n",
              "ExpressJet Airlines Inc.       51251\n",
              "Delta Air Lines Inc.           47746\n",
              "American Airlines Inc.         32059\n",
              "Envoy Air                      25076\n",
              "US Airways Inc.                19842\n",
              "Endeavor Air Inc.              17345\n",
              "Southwest Airlines Co.         12075\n",
              "Virgin America                  5127\n",
              "AirTran Airways Corporation     3181\n",
              "Alaska Airlines Inc.             712\n",
              "Frontier Airlines Inc.           681\n",
              "Mesa Airlines Inc.               544\n",
              "Hawaiian Airlines Inc.           342\n",
              "SkyWest Airlines Inc.             29\n",
              "Name: id, dtype: int64"
            ]
          },
          "metadata": {},
          "execution_count": 76
        }
      ]
    },
    {
      "cell_type": "code",
      "source": [
        "plt.figure(figsize=(10, 6))\n",
        "sns.countplot(x='name', data=fdata,color='grey')\n",
        "plt.title('Flights by Airline')\n",
        "plt.xlabel('Airline')\n",
        "plt.ylabel('Count')\n",
        "plt.xticks(rotation=90)\n",
        "plt.show()"
      ],
      "metadata": {
        "colab": {
          "base_uri": "https://localhost:8080/",
          "height": 744
        },
        "id": "sSM0znjvZTM4",
        "outputId": "abba5d22-972d-496b-c0bd-f83b96282612"
      },
      "execution_count": 98,
      "outputs": [
        {
          "output_type": "display_data",
          "data": {
            "text/plain": [
              "<Figure size 1000x600 with 1 Axes>"
            ],
            "image/png": "[encoded data removed]"
          },
          "metadata": {}
        }
      ]
    },
    {
      "cell_type": "markdown",
      "source": [
        "United Airlines has the highest number of flights commuting from New York to multiple destinations across the United States.\n",
        "\n",
        "In 2013, a total of 57,916 flights were operated by American Airlines from New York, followed by JetBlue Airways with 54,137 flights."
      ],
      "metadata": {
        "id": "GF6Jyq-8XkzC"
      }
    },
    {
      "cell_type": "code",
      "source": [
        "#Flight counts by Origin airports\n",
        "Flights_by_Origin=fdata.groupby('origin')['id'].count().sort_values(ascending=False)\n",
        "Flights_by_Origin"
      ],
      "metadata": {
        "colab": {
          "base_uri": "https://localhost:8080/"
        },
        "id": "RvBIQXDia5dj",
        "outputId": "6504b7e7-9cfb-422b-8b99-81bd8024487c"
      },
      "execution_count": 99,
      "outputs": [
        {
          "output_type": "execute_result",
          "data": {
            "text/plain": [
              "origin\n",
              "EWR    117445\n",
              "JFK    109284\n",
              "LGA    101334\n",
              "Name: id, dtype: int64"
            ]
          },
          "metadata": {},
          "execution_count": 99
        }
      ]
    },
    {
      "cell_type": "code",
      "source": [
        "plt.pie(Flights_by_Origin,labels=['EWR: '+str(Flights_by_Origin['EWR']), 'JFK: '+str(Flights_by_Origin['JFK']), 'LGA: '+str(Flights_by_Origin['LGA'])])\n",
        "plt.title('Flights by Origin Airport')\n",
        "plt.show()"
      ],
      "metadata": {
        "colab": {
          "base_uri": "https://localhost:8080/",
          "height": 428
        },
        "id": "rdS9B7TKbB0x",
        "outputId": "ff4ef559-e68d-4d9f-f794-0749b446b187"
      },
      "execution_count": 110,
      "outputs": [
        {
          "output_type": "display_data",
          "data": {
            "text/plain": [
              "<Figure size 640x480 with 1 Axes>"
            ],
            "image/png": "[encoded data removed]"
          },
          "metadata": {}
        }
      ]
    },
    {
      "cell_type": "markdown",
      "source": [
        "EWR has the highest number of flights departing in year 2013"
      ],
      "metadata": {
        "id": "3PfbZK9uctd_"
      }
    },
    {
      "cell_type": "markdown",
      "source": [
        "### **Analyse the Dealy and departure ,using numbers and plots**"
      ],
      "metadata": {
        "id": "BeDW0PFQH4J9"
      }
    },
    {
      "cell_type": "markdown",
      "source": [
        "# **1.Delay in Departures**"
      ],
      "metadata": {
        "id": "LgPCB7QhRtHl"
      }
    },
    {
      "cell_type": "code",
      "source": [
        "#Analyse the delays in Departures\n",
        "fdata[\"Departure delayed\"].value_counts()\n"
      ],
      "metadata": {
        "colab": {
          "base_uri": "https://localhost:8080/"
        },
        "id": "wfYEcE-WHI6X",
        "outputId": "fff502f7-e4dd-4c33-a5cc-2fe440e189d4"
      },
      "execution_count": 19,
      "outputs": [
        {
          "output_type": "execute_result",
          "data": {
            "text/plain": [
              "Departure delayed\n",
              "No     199942\n",
              "Yes    128121\n",
              "Name: count, dtype: int64"
            ]
          },
          "metadata": {},
          "execution_count": 19
        }
      ]
    },
    {
      "cell_type": "code",
      "source": [
        "fdata[\"Departure delayed\"].value_counts(normalize=True)*100"
      ],
      "metadata": {
        "colab": {
          "base_uri": "https://localhost:8080/"
        },
        "id": "M5PZ-nG6SH4q",
        "outputId": "0a468dec-68f9-45f2-b84c-ade5fac5966c"
      },
      "execution_count": 20,
      "outputs": [
        {
          "output_type": "execute_result",
          "data": {
            "text/plain": [
              "Departure delayed\n",
              "No     60.946221\n",
              "Yes    39.053779\n",
              "Name: proportion, dtype: float64"
            ]
          },
          "metadata": {},
          "execution_count": 20
        }
      ]
    },
    {
      "cell_type": "code",
      "source": [
        "fdata[\"Departure delayed\"].value_counts().plot(kind='pie',autopct='%1.1f%%',label=\"Delay in departures\")\n",
        "plt.show()"
      ],
      "metadata": {
        "colab": {
          "base_uri": "https://localhost:8080/",
          "height": 406
        },
        "id": "Po-vZ-wkHqxN",
        "outputId": "679fd2a2-2a83-44f3-95ea-05c106e43ca6"
      },
      "execution_count": 21,
      "outputs": [
        {
          "output_type": "display_data",
          "data": {
            "text/plain": [
              "<Figure size 640x480 with 1 Axes>"
            ],
            "image/png": "[encoded data removed]"
          },
          "metadata": {}
        }
      ]
    },
    {
      "cell_type": "markdown",
      "source": [
        "insights :38.1% of total flights have been delayed while departing from New york in 2013, across multiple airports within New york"
      ],
      "metadata": {
        "id": "e5v2aECCKm_H"
      }
    },
    {
      "cell_type": "code",
      "source": [
        "#Average Delay time\n",
        "Avg_Departure_Delay=fdata['dep_delay'].mean()*100\n",
        "Avg_Departure_Delay"
      ],
      "metadata": {
        "colab": {
          "base_uri": "https://localhost:8080/"
        },
        "id": "8rrF-KuePx_E",
        "outputId": "883b6830-cc5e-4655-b065-ef2bb20915d3"
      },
      "execution_count": 22,
      "outputs": [
        {
          "output_type": "execute_result",
          "data": {
            "text/plain": [
              "12.57597473655975"
            ]
          },
          "metadata": {},
          "execution_count": 22
        }
      ]
    },
    {
      "cell_type": "markdown",
      "source": [
        "Flights departing from NY airports have average delay of 12.6 minutes overall."
      ],
      "metadata": {
        "id": "gclMz8yTQQOf"
      }
    },
    {
      "cell_type": "code",
      "source": [
        "#Average delay  time by departure airport\n",
        "avg_dep_delay_by_origin=fdata.groupby('origin')['dep_delay'].mean()*100\n",
        "avg_dep_delay_by_origin"
      ],
      "metadata": {
        "colab": {
          "base_uri": "https://localhost:8080/"
        },
        "id": "A3l3VDNCQZP8",
        "outputId": "c24f0d21-9e20-4d7e-b0e9-84128d4bd180"
      },
      "execution_count": 23,
      "outputs": [
        {
          "output_type": "execute_result",
          "data": {
            "text/plain": [
              "origin\n",
              "EWR    15.035216\n",
              "JFK    12.044673\n",
              "LGA    10.298725\n",
              "Name: dep_delay, dtype: float64"
            ]
          },
          "metadata": {},
          "execution_count": 23
        }
      ]
    },
    {
      "cell_type": "markdown",
      "source": [
        "EWR airport has the highest average departure delay. 15 minutes average delay"
      ],
      "metadata": {
        "id": "YE7eLwwdRMfj"
      }
    },
    {
      "cell_type": "code",
      "source": [
        "#Delay in Departures by  Origin airport\n",
        "departure_delay_counts_by_O_Airport = fdata.groupby('origin')['Departure delayed'].value_counts(normalize=True)*100\n",
        "departure_delay_counts_by_O_Airport"
      ],
      "metadata": {
        "colab": {
          "base_uri": "https://localhost:8080/"
        },
        "id": "RQU9s9ZYO4X9",
        "outputId": "3c7d3dca-c0ad-4e46-8e28-38d29e4a3fc7"
      },
      "execution_count": 24,
      "outputs": [
        {
          "output_type": "execute_result",
          "data": {
            "text/plain": [
              "origin  Departure delayed\n",
              "EWR     No                   55.215633\n",
              "        Yes                  44.784367\n",
              "JFK     No                   61.623842\n",
              "        Yes                  38.376158\n",
              "LGA     No                   66.857126\n",
              "        Yes                  33.142874\n",
              "Name: proportion, dtype: float64"
            ]
          },
          "metadata": {},
          "execution_count": 24
        }
      ]
    },
    {
      "cell_type": "code",
      "source": [
        "plt.figure(figsize=(10, 6))\n",
        "sns.countplot(x='origin',hue='Departure delayed' , data=fdata)\n",
        "plt.title('Delay in departures by Origin Airport')\n",
        "plt.xlabel('Airport')\n",
        "plt.ylabel('Count')\n",
        "plt.legend()\n",
        "plt.show()"
      ],
      "metadata": {
        "colab": {
          "base_uri": "https://localhost:8080/",
          "height": 564
        },
        "id": "2UWE36XmO_vh",
        "outputId": "9cdb0a49-7ed2-4be1-8bb7-69e93091b2bd"
      },
      "execution_count": 25,
      "outputs": [
        {
          "output_type": "display_data",
          "data": {
            "text/plain": [
              "<Figure size 1000x600 with 1 Axes>"
            ],
            "image/png": "[encoded data removed]"
          },
          "metadata": {}
        }
      ]
    },
    {
      "cell_type": "markdown",
      "source": [
        "Insight: EWR airport has the more departure delays compare ot LGA and JFK airports.\n",
        "EWR:Newark Liberty intl Airport\n",
        "LGA:La guardia Airport\n",
        "JFK:John F Kennedy intl airport"
      ],
      "metadata": {
        "id": "bcesdCFOTlG5"
      }
    },
    {
      "cell_type": "code",
      "source": [
        "#Delay in Departures by Destination airport\n",
        "departure_delay_counts_by_D_Airport = fdata.groupby('dest')['Departure delayed'].value_counts()\n",
        "departure_delay_counts_by_D_Airport"
      ],
      "metadata": {
        "colab": {
          "base_uri": "https://localhost:8080/"
        },
        "id": "2HcWlubbT6hB",
        "outputId": "c0364587-6c40-4e17-c89b-73d541bb3acd"
      },
      "execution_count": 26,
      "outputs": [
        {
          "output_type": "execute_result",
          "data": {
            "text/plain": [
              "dest  Departure delayed\n",
              "ABQ   No                   139\n",
              "      Yes                  115\n",
              "ACK   No                   183\n",
              "      Yes                   82\n",
              "ALB   No                   209\n",
              "                          ... \n",
              "TVC   Yes                   35\n",
              "TYS   No                   298\n",
              "      Yes                  280\n",
              "XNA   No                   744\n",
              "      Yes                  261\n",
              "Name: count, Length: 207, dtype: int64"
            ]
          },
          "metadata": {},
          "execution_count": 26
        }
      ]
    },
    {
      "cell_type": "code",
      "source": [
        "#Top 10 destination airport , to which flights have been delayed originating from NY\n",
        "Top_10_Destination_Airports_delays=departure_delay_counts_by_D_Airport[:, 'Yes'].sort_values(ascending=False).head(10)\n",
        "Top_10_Destination_Airports_delays"
      ],
      "metadata": {
        "colab": {
          "base_uri": "https://localhost:8080/"
        },
        "id": "tAOPJnhcXPct",
        "outputId": "4ac04279-442f-4307-888a-f4c71947e049"
      },
      "execution_count": 27,
      "outputs": [
        {
          "output_type": "execute_result",
          "data": {
            "text/plain": [
              "dest\n",
              "LAX    6471\n",
              "ORD    6328\n",
              "ATL    6065\n",
              "SFO    5689\n",
              "MCO    5466\n",
              "FLL    5056\n",
              "BOS    4812\n",
              "CLT    4273\n",
              "MIA    4098\n",
              "DEN    3620\n",
              "Name: count, dtype: int64"
            ]
          },
          "metadata": {},
          "execution_count": 27
        }
      ]
    },
    {
      "cell_type": "code",
      "source": [
        "plt.figure(figsize=(20, 6))\n",
        "sns.countplot(x='dest',hue='Departure delayed' , data=fdata[fdata['Departure delayed'] == 'Yes'])\n",
        "plt.title('Delay in departures by Destination Airport')\n",
        "plt.xlabel('Airport')\n",
        "plt.ylabel('Count')\n",
        "plt.legend()\n",
        "plt.xticks(rotation=90)\n",
        "plt.show()"
      ],
      "metadata": {
        "colab": {
          "base_uri": "https://localhost:8080/",
          "height": 587
        },
        "id": "p6YHth7QUWKP",
        "outputId": "e0a14910-39a5-45c9-d838-8820af8f2d17"
      },
      "execution_count": 28,
      "outputs": [
        {
          "output_type": "display_data",
          "data": {
            "text/plain": [
              "<Figure size 2000x600 with 1 Axes>"
            ],
            "image/png": "[encoded data removed]"
          },
          "metadata": {}
        }
      ]
    },
    {
      "cell_type": "markdown",
      "source": [
        "Insight :LAX airport has the maximum Number of flights delayed(6471) next to ORD(6238) , which have been departed from NY airports (LAX- Los Angeles International Airport),ORD:Chicago O'Hare International Airport"
      ],
      "metadata": {
        "id": "O1y9SKwut7Cj"
      }
    },
    {
      "cell_type": "code",
      "source": [
        "# Number of flights by Origin airport\n",
        "\n",
        "departure_delay_counts_by_O_Airport = fdata.groupby('origin')['Departure delayed'].value_counts()\n",
        "departure_delay_counts_by_O_Airport.groupby('origin').sum()\n"
      ],
      "metadata": {
        "colab": {
          "base_uri": "https://localhost:8080/"
        },
        "id": "YyzpVJ58vZl9",
        "outputId": "e87034b2-5eec-4729-b58c-5fc1b49d64e6"
      },
      "execution_count": 29,
      "outputs": [
        {
          "output_type": "execute_result",
          "data": {
            "text/plain": [
              "origin\n",
              "EWR    117445\n",
              "JFK    109284\n",
              "LGA    101334\n",
              "Name: count, dtype: int64"
            ]
          },
          "metadata": {},
          "execution_count": 29
        }
      ]
    },
    {
      "cell_type": "markdown",
      "source": [
        "Insight :EWR has the highest number of flights departing from Ney york in 2013."
      ],
      "metadata": {
        "id": "M13mIs4swN2R"
      }
    },
    {
      "cell_type": "markdown",
      "source": [
        "# 2.Delay in arrivals\n"
      ],
      "metadata": {
        "id": "RcS2fMhaNqPZ"
      }
    },
    {
      "cell_type": "code",
      "source": [
        "#Analyse the delays in Arrivals\n",
        "fdata[\"Arrival delayed\"].value_counts()"
      ],
      "metadata": {
        "colab": {
          "base_uri": "https://localhost:8080/"
        },
        "id": "i_Dk4N88IPAF",
        "outputId": "8f4b7ace-fbb3-406f-ac35-9fcf022b8ff7"
      },
      "execution_count": 30,
      "outputs": [
        {
          "output_type": "execute_result",
          "data": {
            "text/plain": [
              "Arrival delayed\n",
              "No     195059\n",
              "Yes    133004\n",
              "Name: count, dtype: int64"
            ]
          },
          "metadata": {},
          "execution_count": 30
        }
      ]
    },
    {
      "cell_type": "code",
      "source": [
        "fdata[\"Arrival delayed\"].value_counts(normalize = True)*100\n"
      ],
      "metadata": {
        "colab": {
          "base_uri": "https://localhost:8080/"
        },
        "id": "6M9G410wKKPL",
        "outputId": "ba515e54-91dd-417d-8782-cd84eb610ce1"
      },
      "execution_count": 31,
      "outputs": [
        {
          "output_type": "execute_result",
          "data": {
            "text/plain": [
              "Arrival delayed\n",
              "No     59.457787\n",
              "Yes    40.542213\n",
              "Name: proportion, dtype: float64"
            ]
          },
          "metadata": {},
          "execution_count": 31
        }
      ]
    },
    {
      "cell_type": "code",
      "source": [
        "fdata[\"Arrival delayed\"].value_counts().plot(kind='pie',autopct='%1.1f%%',label=\"Delay in Arrivals\")\n",
        "plt.show()"
      ],
      "metadata": {
        "colab": {
          "base_uri": "https://localhost:8080/",
          "height": 406
        },
        "id": "Cya95_jpKakx",
        "outputId": "6ae08413-1871-41cd-cef9-0148dc7cd513"
      },
      "execution_count": 32,
      "outputs": [
        {
          "output_type": "display_data",
          "data": {
            "text/plain": [
              "<Figure size 640x480 with 1 Axes>"
            ],
            "image/png": "[encoded data removed]"
          },
          "metadata": {}
        }
      ]
    },
    {
      "cell_type": "markdown",
      "source": [
        "Insight : 40.5% of flights departed from New york airports to different destinations have been delayed in year 2013"
      ],
      "metadata": {
        "id": "KYZFlxKoKh6o"
      }
    },
    {
      "cell_type": "code",
      "source": [
        "#Average delay in arrivals\n",
        "Avg_Arrival_Delay=fdata['arr_delay'].mean()*100\n",
        "Avg_Arrival_Delay"
      ],
      "metadata": {
        "colab": {
          "base_uri": "https://localhost:8080/"
        },
        "id": "74J1332GU8Oa",
        "outputId": "42b5b12e-0335-423a-88e8-414a8d0ca189"
      },
      "execution_count": 33,
      "outputs": [
        {
          "output_type": "execute_result",
          "data": {
            "text/plain": [
              "6.8803065264903385"
            ]
          },
          "metadata": {},
          "execution_count": 33
        }
      ]
    },
    {
      "cell_type": "markdown",
      "source": [
        "Avergage flight delay time is 6.8 minutes , all of these flights have been deparrted from NY airports and arrivaed at destinations"
      ],
      "metadata": {
        "id": "7zpnLinaVEXc"
      }
    },
    {
      "cell_type": "code",
      "source": [
        "avg_arrival_depay_by_dest=fdata.groupby('dest')['arr_delay'].mean()*100\n",
        "avg_arrival_depay_by_dest"
      ],
      "metadata": {
        "colab": {
          "base_uri": "https://localhost:8080/"
        },
        "id": "XF8fqs2VVSVj",
        "outputId": "86f154bc-e5b4-4497-aadd-dc9a0495a948"
      },
      "execution_count": 34,
      "outputs": [
        {
          "output_type": "execute_result",
          "data": {
            "text/plain": [
              "dest\n",
              "ABQ     4.381890\n",
              "ACK     4.833962\n",
              "ALB    14.397129\n",
              "ANC    -2.500000\n",
              "ATL    11.276003\n",
              "         ...    \n",
              "TPA     7.394516\n",
              "TUL    33.319865\n",
              "TVC    12.968421\n",
              "TYS    24.069204\n",
              "XNA     7.369154\n",
              "Name: arr_delay, Length: 104, dtype: float64"
            ]
          },
          "metadata": {},
          "execution_count": 34
        }
      ]
    },
    {
      "cell_type": "code",
      "source": [
        "#Top 10 destination airports where flights have been delayed in arrivals by average delay time\n",
        "avg_arrival_depay_by_dest.sort_values(ascending=False).head(10)"
      ],
      "metadata": {
        "colab": {
          "base_uri": "https://localhost:8080/"
        },
        "id": "92ZJqp7XWhT5",
        "outputId": "0b00a3fc-0c88-4ec7-fd6c-db2a395f188d"
      },
      "execution_count": 35,
      "outputs": [
        {
          "output_type": "execute_result",
          "data": {
            "text/plain": [
              "dest\n",
              "CAE    41.764151\n",
              "TUL    33.319865\n",
              "OKC    30.046729\n",
              "JAC    26.818182\n",
              "TYS    24.069204\n",
              "RIC    20.102684\n",
              "MSN    20.051786\n",
              "CAK    19.698337\n",
              "DSM    18.933333\n",
              "GRR    18.114911\n",
              "Name: arr_delay, dtype: float64"
            ]
          },
          "metadata": {},
          "execution_count": 35
        }
      ]
    },
    {
      "cell_type": "code",
      "source": [
        "#Bottom 10 destination airports where flights have been delayed in arrivals by average delay time\n",
        "avg_arrival_depay_by_dest.sort_values(ascending=True).head(10)"
      ],
      "metadata": {
        "colab": {
          "base_uri": "https://localhost:8080/"
        },
        "id": "ElyGEse_W0xz",
        "outputId": "797d9515-9c75-44ba-c4c5-d9420796eb6a"
      },
      "execution_count": 36,
      "outputs": [
        {
          "output_type": "execute_result",
          "data": {
            "text/plain": [
              "dest\n",
              "LEX   -22.000000\n",
              "PSP   -12.722222\n",
              "SNA    -7.868227\n",
              "STT    -3.835907\n",
              "ANC    -2.500000\n",
              "HNL    -1.357447\n",
              "SEA    -1.094030\n",
              "MVY    -0.284360\n",
              "LGB    -0.061747\n",
              "SLC     0.175753\n",
              "Name: arr_delay, dtype: float64"
            ]
          },
          "metadata": {},
          "execution_count": 36
        }
      ]
    },
    {
      "cell_type": "markdown",
      "source": [
        "CAE airport has the highest average arrival delay among all other destinations,41.76 minutes of average delay in year 2013. CAE =Columbia international airport.\n",
        "Where as SLC has the least delay of 0.17 minutes and LEX airport has arrivals well ahead of scheduled arrivals\n",
        "in year 2013 , flights arrived at LEX are average 22 minutes ahead  its scheduled arrival time."
      ],
      "metadata": {
        "id": "epQD4_p3XTXU"
      }
    },
    {
      "cell_type": "code",
      "source": [
        "#Arrival Delays by Origin airport\n",
        "fdata.groupby('origin')['Arrival delayed'].value_counts"
      ],
      "metadata": {
        "colab": {
          "base_uri": "https://localhost:8080/",
          "height": 139
        },
        "id": "ZNrETeu4MtAv",
        "outputId": "1805149e-b355-43b2-e294-b2b48120b084"
      },
      "execution_count": 37,
      "outputs": [
        {
          "output_type": "execute_result",
          "data": {
            "text/plain": [
              "<bound method SeriesGroupBy.value_counts of <pandas.core.groupby.generic.SeriesGroupBy object at 0x7e98405e9210>>"
            ],
            "text/html": [
              "<div style=\"max-width:800px; border: 1px solid var(--colab-border-color);\"><style>\n",
              "      pre.function-repr-contents {\n",
              "        overflow-x: auto;\n",
              "        padding: 8px 12px;\n",
              "        max-height: 500px;\n",
              "      }\n",
              "\n",
              "      pre.function-repr-contents.function-repr-contents-collapsed {\n",
              "        cursor: pointer;\n",
              "        max-height: 100px;\n",
              "      }\n",
              "    </style>\n",
              "    <pre style=\"white-space: initial; background:\n",
              "         var(--colab-secondary-surface-color); padding: 8px 12px;\n",
              "         border-bottom: 1px solid var(--colab-border-color);\"><b>pandas.core.groupby.generic.SeriesGroupBy.value_counts</b><br/>def value_counts(normalize: bool=False, sort: bool=True, ascending: bool=False, bins=None, dropna: bool=True) -&gt; Series | DataFrame</pre><pre class=\"function-repr-contents function-repr-contents-collapsed\" style=\"\"><a class=\"filepath\" style=\"display:none\" href=\"#\">/usr/local/lib/python3.10/dist-packages/pandas/core/groupby/generic.py</a>&lt;no docstring&gt;</pre>\n",
              "      <script>\n",
              "      if (google.colab.kernel.accessAllowed && google.colab.files && google.colab.files.view) {\n",
              "        for (const element of document.querySelectorAll('.filepath')) {\n",
              "          element.style.display = 'block'\n",
              "          element.onclick = (event) => {\n",
              "            event.preventDefault();\n",
              "            event.stopPropagation();\n",
              "            google.colab.files.view(element.textContent, 641);\n",
              "          };\n",
              "        }\n",
              "      }\n",
              "      for (const element of document.querySelectorAll('.function-repr-contents')) {\n",
              "        element.onclick = (event) => {\n",
              "          event.preventDefault();\n",
              "          event.stopPropagation();\n",
              "          element.classList.toggle('function-repr-contents-collapsed');\n",
              "        };\n",
              "      }\n",
              "      </script>\n",
              "      </div>"
            ]
          },
          "metadata": {},
          "execution_count": 37
        }
      ]
    },
    {
      "cell_type": "code",
      "source": [
        "fdata.groupby('origin')['Arrival delayed'].value_counts(normalize=True)*100"
      ],
      "metadata": {
        "colab": {
          "base_uri": "https://localhost:8080/"
        },
        "id": "OWN78RpLO9RP",
        "outputId": "c02c31f6-79ec-44e1-92b3-e6bf5a2ff62a"
      },
      "execution_count": 38,
      "outputs": [
        {
          "output_type": "execute_result",
          "data": {
            "text/plain": [
              "origin  Arrival delayed\n",
              "EWR     No                 57.342586\n",
              "        Yes                42.657414\n",
              "JFK     No                 60.758208\n",
              "        Yes                39.241792\n",
              "LGA     No                 60.506839\n",
              "        Yes                39.493161\n",
              "Name: proportion, dtype: float64"
            ]
          },
          "metadata": {},
          "execution_count": 38
        }
      ]
    },
    {
      "cell_type": "code",
      "source": [
        "plt.figure(figsize=(10, 6))\n",
        "sns.countplot(x='origin',hue='Arrival delayed' , data=fdata)\n",
        "plt.title('Delay in Arrivals by Origin Airport')\n",
        "plt.xlabel('Airport')\n",
        "plt.ylabel('Count')\n",
        "plt.show()"
      ],
      "metadata": {
        "colab": {
          "base_uri": "https://localhost:8080/",
          "height": 564
        },
        "id": "G6-hYSPxOvgg",
        "outputId": "7b169667-dd64-4637-e561-0064fd31d281"
      },
      "execution_count": 39,
      "outputs": [
        {
          "output_type": "display_data",
          "data": {
            "text/plain": [
              "<Figure size 1000x600 with 1 Axes>"
            ],
            "image/png": "[encoded data removed]"
          },
          "metadata": {}
        }
      ]
    },
    {
      "cell_type": "markdown",
      "source": [
        "Insights : Data and graph shows Flights departing from EWR are being delayed in arrival at destination airports, this is may be because of delays in departure!\n",
        "Previous stats shows that EWR has more number of flights being delayed while departing.\n"
      ],
      "metadata": {
        "id": "IoCT-sjKPGjG"
      }
    },
    {
      "cell_type": "code",
      "source": [
        "#Arrival delays by arrival airports\n",
        "Arrival_delay_dest=fdata.groupby('dest')['Arrival delayed'].value_counts()\n",
        "Arrival_delay_dest"
      ],
      "metadata": {
        "colab": {
          "base_uri": "https://localhost:8080/"
        },
        "id": "ls9Mz-bVZMRd",
        "outputId": "66d7b816-8b8f-416f-ddc2-76537a9dec39"
      },
      "execution_count": 42,
      "outputs": [
        {
          "output_type": "execute_result",
          "data": {
            "text/plain": [
              "dest  Arrival delayed\n",
              "ABQ   No                 147\n",
              "      Yes                107\n",
              "ACK   No                 161\n",
              "      Yes                104\n",
              "ALB   No                 234\n",
              "                        ... \n",
              "TVC   Yes                 35\n",
              "TYS   Yes                307\n",
              "      No                 271\n",
              "XNA   No                 549\n",
              "      Yes                456\n",
              "Name: count, Length: 207, dtype: int64"
            ]
          },
          "metadata": {},
          "execution_count": 42
        }
      ]
    },
    {
      "cell_type": "code",
      "source": [
        "#Top 10 Arrival airports where incoming flights have been delayed\n",
        "Top_10_Destination_Airports_Arrival_delays=Arrival_delay_dest[:, 'Yes'].sort_values(ascending=False).head(10)\n",
        "Top_10_Destination_Airports_Arrival_delays"
      ],
      "metadata": {
        "colab": {
          "base_uri": "https://localhost:8080/"
        },
        "id": "Lp06CZIAH0xw",
        "outputId": "49fe1332-bd4e-490d-afb2-bcd859e4df22"
      },
      "execution_count": 43,
      "outputs": [
        {
          "output_type": "execute_result",
          "data": {
            "text/plain": [
              "dest\n",
              "ATL    7946\n",
              "ORD    6198\n",
              "LAX    5967\n",
              "CLT    5838\n",
              "MCO    5545\n",
              "FLL    5212\n",
              "SFO    4941\n",
              "BOS    4743\n",
              "DCA    4003\n",
              "MIA    3855\n",
              "Name: count, dtype: int64"
            ]
          },
          "metadata": {},
          "execution_count": 43
        }
      ]
    },
    {
      "cell_type": "code",
      "source": [
        "plt.figure(figsize=(20, 6))\n",
        "sns.countplot(x='dest',hue='Arrival delayed' , data=fdata)\n",
        "plt.title('Delay in Arrivals by Origin Airport')\n",
        "plt.xlabel('Airport')\n",
        "plt.ylabel('Count')\n",
        "plt.xticks(rotation=90)\n",
        "plt.show()"
      ],
      "metadata": {
        "colab": {
          "base_uri": "https://localhost:8080/",
          "height": 587
        },
        "id": "q5qiQ3t9Pl7h",
        "outputId": "3202bdc2-01cd-4d91-d950-7f795e7543c0"
      },
      "execution_count": 41,
      "outputs": [
        {
          "output_type": "display_data",
          "data": {
            "text/plain": [
              "<Figure size 2000x600 with 1 Axes>"
            ],
            "image/png": "[encoded data removed]"
          },
          "metadata": {}
        }
      ]
    },
    {
      "cell_type": "markdown",
      "source": [
        "Insights :ATL- Hartsfield-Jackson Atlanta International Airport has the more number of flights delayed(7946) in year 2013, these flights were departed from NY city."
      ],
      "metadata": {
        "id": "re-gM01vIUzY"
      }
    },
    {
      "cell_type": "code",
      "source": [
        "Delay_Arrival_Months=fdata.groupby('month')['Arrival delayed'].value_counts()\n",
        "Delay_Arrival_Months"
      ],
      "metadata": {
        "colab": {
          "base_uri": "https://localhost:8080/"
        },
        "id": "6q-MR9btIyRq",
        "outputId": "4b3f61fb-0f0b-43ac-d43c-f512d3330af5"
      },
      "execution_count": 53,
      "outputs": [
        {
          "output_type": "execute_result",
          "data": {
            "text/plain": [
              "month  Arrival delayed\n",
              "1      No                 15318\n",
              "       Yes                11150\n",
              "2      No                 13560\n",
              "       Yes                10100\n",
              "3      No                 17024\n",
              "       Yes                10919\n",
              "4      No                 15098\n",
              "       Yes                12522\n",
              "5      No                 18006\n",
              "       Yes                10189\n",
              "6      No                 14681\n",
              "       Yes                12490\n",
              "7      No                 15078\n",
              "       Yes                13304\n",
              "8      No                 17192\n",
              "       Yes                11629\n",
              "9      No                 20225\n",
              "       Yes                 6845\n",
              "10     No                 18819\n",
              "       Yes                 9823\n",
              "11     No                 17376\n",
              "       Yes                 9639\n",
              "12     Yes                14394\n",
              "       No                 12682\n",
              "Name: count, dtype: int64"
            ]
          },
          "metadata": {},
          "execution_count": 53
        }
      ]
    },
    {
      "cell_type": "code",
      "source": [],
      "metadata": {
        "id": "eG-7qPecOwc4"
      },
      "execution_count": null,
      "outputs": []
    },
    {
      "cell_type": "code",
      "source": [
        "Delay_Arrival_Months_yes=Delay_Arrival_Months[:, 'Yes'].sort_values(ascending=False)\n",
        "Delay_Arrival_Months_yes"
      ],
      "metadata": {
        "colab": {
          "base_uri": "https://localhost:8080/"
        },
        "id": "At9M-0dSKzHV",
        "outputId": "7adb63ce-a2fa-469d-a76c-2d1b0c62f79f"
      },
      "execution_count": 50,
      "outputs": [
        {
          "output_type": "execute_result",
          "data": {
            "text/plain": [
              "month\n",
              "12    14394\n",
              "7     13304\n",
              "4     12522\n",
              "6     12490\n",
              "8     11629\n",
              "1     11150\n",
              "3     10919\n",
              "5     10189\n",
              "2     10100\n",
              "10     9823\n",
              "11     9639\n",
              "9      6845\n",
              "Name: count, dtype: int64"
            ]
          },
          "metadata": {},
          "execution_count": 50
        }
      ]
    },
    {
      "cell_type": "markdown",
      "source": [
        "December of 2013 has the highest number of flights delayed . total 14394 flights have been delayed in month of December"
      ],
      "metadata": {
        "id": "rVcZhQUhK8PN"
      }
    },
    {
      "cell_type": "code",
      "source": [
        "plt.figure(figsize=(10, 6))\n",
        "sns.countplot(x='month',hue='Arrival delayed' , data=fdata)\n",
        "plt.title('Delay in Arrivals by Month')\n",
        "plt.xlabel('Month')\n",
        "plt.ylabel('Count')\n",
        "plt.show()"
      ],
      "metadata": {
        "colab": {
          "base_uri": "https://localhost:8080/",
          "height": 564
        },
        "id": "xfa1v18cKbjV",
        "outputId": "53c8901a-7557-49da-d532-88888fca3de1"
      },
      "execution_count": 48,
      "outputs": [
        {
          "output_type": "display_data",
          "data": {
            "text/plain": [
              "<Figure size 1000x600 with 1 Axes>"
            ],
            "image/png": "[encoded data removed]"
          },
          "metadata": {}
        }
      ]
    }
  ]
}